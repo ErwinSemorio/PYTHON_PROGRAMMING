{
 "cells": [
  {
   "cell_type": "code",
   "execution_count": 1,
   "id": "a02c83e0-c385-4860-ac5d-594f96206715",
   "metadata": {},
   "outputs": [
    {
     "name": "stdout",
     "output_type": "stream",
     "text": [
      "25000000\n",
      "25000000\n"
     ]
    }
   ],
   "source": [
    "num1 = 25_000_000\n",
    "\n",
    "num2 = 25000000\n",
    "\n",
    "# Printing num1 and num2 on separate lines\n",
    "print(num1)\n",
    "print(num2)\n"
   ]
  },
  {
   "cell_type": "code",
   "execution_count": 2,
   "id": "581241b4-6853-419f-a434-bda849e15aa5",
   "metadata": {},
   "outputs": [
    {
     "name": "stdout",
     "output_type": "stream",
     "text": [
      "175000.0\n"
     ]
    }
   ],
   "source": [
    "# Assigning the value 175000.0 using exponential notation\n",
    "num = 1.75e5  # Equivalent to 175000.0\n",
    "\n",
    "# Printing the result\n",
    "print(num)\n"
   ]
  },
  {
   "cell_type": "code",
   "execution_count": 4,
   "id": "8e8db9a9-e6cf-4e72-8b0f-35039da6a98d",
   "metadata": {},
   "outputs": [
    {
     "ename": "KeyboardInterrupt",
     "evalue": "",
     "output_type": "error",
     "traceback": [
      "\u001b[1;31m---------------------------------------------------------------------------\u001b[0m",
      "\u001b[1;31mKeyboardInterrupt\u001b[0m                         Traceback (most recent call last)",
      "Cell \u001b[1;32mIn[4], line 5\u001b[0m\n\u001b[0;32m      2\u001b[0m N \u001b[38;5;241m=\u001b[39m \u001b[38;5;241m308\u001b[39m\n\u001b[0;32m      4\u001b[0m \u001b[38;5;66;03m# Check when 2 * 10^N becomes inf\u001b[39;00m\n\u001b[1;32m----> 5\u001b[0m \u001b[38;5;28;01mwhile\u001b[39;00m \u001b[38;5;28;01mTrue\u001b[39;00m:\n\u001b[0;32m      6\u001b[0m     result \u001b[38;5;241m=\u001b[39m \u001b[38;5;241m2\u001b[39m \u001b[38;5;241m*\u001b[39m \u001b[38;5;241m10\u001b[39m\u001b[38;5;241m*\u001b[39m\u001b[38;5;241m*\u001b[39mN  \u001b[38;5;66;03m# Using exponential notation\u001b[39;00m\n\u001b[0;32m      7\u001b[0m     \u001b[38;5;28;01mif\u001b[39;00m result \u001b[38;5;241m==\u001b[39m \u001b[38;5;28mfloat\u001b[39m(\u001b[38;5;124m'\u001b[39m\u001b[38;5;124minf\u001b[39m\u001b[38;5;124m'\u001b[39m):\n",
      "\u001b[1;31mKeyboardInterrupt\u001b[0m: "
     ]
    }
   ],
   "source": [
    "# Start from exponent N = 308\n",
    "N = 308\n",
    "\n",
    "# Check when 2 * 10^N becomes inf\n",
    "while True:\n",
    "    result = 2 * 10**N  # Using exponential notation\n",
    "    if result == float('inf'):\n",
    "        break\n",
    "    N += 1\n",
    "\n",
    "# Print the smallest N\n",
    "print(f\"The smallest N where 2 * 10^{N} becomes inf is: {N}\")\n"
   ]
  },
  {
   "cell_type": "markdown",
   "id": "49817db0-960a-4431-8e15-93ea86fcdb8a",
   "metadata": {},
   "source": [
    "# REVIEW QUESTION #2"
   ]
  },
  {
   "cell_type": "code",
   "execution_count": 5,
   "id": "cbfe7993-630c-413c-933d-22cf82dfd1d0",
   "metadata": {},
   "outputs": [
    {
     "name": "stdin",
     "output_type": "stream",
     "text": [
      "Enter the base number:  1\n",
      "Enter the exponent number:  2\n"
     ]
    },
    {
     "name": "stdout",
     "output_type": "stream",
     "text": [
      "1.0 raised to the power of 2.0 is: 1.0\n"
     ]
    }
   ],
   "source": [
    "# exponent.py\n",
    "\n",
    "# Receive input from the user\n",
    "base = float(input(\"Enter the base number: \"))  # The first number (base)\n",
    "exponent = float(input(\"Enter the exponent number: \"))  # The second number (exponent)\n",
    "\n",
    "# Calculate the result of raising the base to the power of the exponent\n",
    "result = base ** exponent\n",
    "\n",
    "# Display the result\n",
    "print(f\"{base} raised to the power of {exponent} is: {result}\")\n"
   ]
  },
  {
   "cell_type": "markdown",
   "id": "262fc144-a9d6-4281-a140-82c9136319a0",
   "metadata": {},
   "source": [
    "# REVIEW QUESTION #3"
   ]
  },
  {
   "cell_type": "code",
   "execution_count": 6,
   "id": "4c9eb265-0859-46f1-a37f-ad98298bc676",
   "metadata": {},
   "outputs": [
    {
     "name": "stdin",
     "output_type": "stream",
     "text": [
      "Enter a number:  1\n"
     ]
    },
    {
     "name": "stdout",
     "output_type": "stream",
     "text": [
      "The number rounded to two decimal places is: 1.0\n"
     ]
    }
   ],
   "source": [
    "# Ask the user to input a number\n",
    "user_input = float(input(\"Enter a number: \"))\n",
    "\n",
    "# Round the number to two decimal places\n",
    "rounded_number = round(user_input, 2)\n",
    "\n",
    "# Display the rounded number\n",
    "print(f\"The number rounded to two decimal places is: {rounded_number}\")\n"
   ]
  },
  {
   "cell_type": "code",
   "execution_count": 7,
   "id": "7cbc2e6e-257e-4b75-9c8d-2246f16bad52",
   "metadata": {},
   "outputs": [
    {
     "name": "stdin",
     "output_type": "stream",
     "text": [
      "Enter a number:  4\n"
     ]
    },
    {
     "name": "stdout",
     "output_type": "stream",
     "text": [
      "The absolute value of 4.0 is: 4.0\n"
     ]
    }
   ],
   "source": [
    "# Ask the user to input a number\n",
    "user_input = float(input(\"Enter a number: \"))\n",
    "\n",
    "# Calculate the absolute value\n",
    "absolute_value = abs(user_input)\n",
    "\n",
    "# Display the absolute value\n",
    "print(f\"The absolute value of {user_input} is: {absolute_value}\")\n"
   ]
  },
  {
   "cell_type": "markdown",
   "id": "3fb62ab1-8913-46fc-a915-43bb9edd7ec5",
   "metadata": {},
   "source": [
    "# REVIEW QUESTION #4"
   ]
  },
  {
   "cell_type": "code",
   "execution_count": 8,
   "id": "313b2047-587a-4930-b4c4-8cf6c4a9b37d",
   "metadata": {},
   "outputs": [
    {
     "name": "stdin",
     "output_type": "stream",
     "text": [
      "Enter the first number:  5\n",
      "Enter the second number:  7\n"
     ]
    },
    {
     "name": "stdout",
     "output_type": "stream",
     "text": [
      "The difference -2.0 is an integer.\n"
     ]
    }
   ],
   "source": [
    "# Ask the user to input two numbers\n",
    "num1 = float(input(\"Enter the first number: \"))\n",
    "num2 = float(input(\"Enter the second number: \"))\n",
    "\n",
    "# Calculate the difference\n",
    "difference = num1 - num2\n",
    "\n",
    "# Check if the difference is an integer\n",
    "if difference.is_integer():\n",
    "    print(f\"The difference {difference} is an integer.\")\n",
    "else:\n",
    "    print(f\"The difference {difference} is not an integer.\")\n"
   ]
  },
  {
   "cell_type": "markdown",
   "id": "f534bc5d-e83d-4903-8951-b5ffcf65bddb",
   "metadata": {},
   "source": [
    "# REVIEW QUESTION #5"
   ]
  },
  {
   "cell_type": "code",
   "execution_count": 9,
   "id": "af3e55b5-324f-4af6-a7d8-a9b8164a0cf8",
   "metadata": {},
   "outputs": [
    {
     "name": "stdout",
     "output_type": "stream",
     "text": [
      "The result of 3 ** 0.125 is: 1.147\n"
     ]
    }
   ],
   "source": [
    "# Calculate 3 raised to the power of 0.125\n",
    "result = 3 ** 0.125\n",
    "\n",
    "# Print the result with three decimal places\n",
    "print(f\"The result of 3 ** 0.125 is: {result:.3f}\")\n"
   ]
  },
  {
   "cell_type": "code",
   "execution_count": 10,
   "id": "9db5ddf6-7b52-492b-9e0c-8f4cc2488bd6",
   "metadata": {},
   "outputs": [
    {
     "name": "stdout",
     "output_type": "stream",
     "text": [
      "$150,000.00\n"
     ]
    }
   ],
   "source": [
    "# The number to format as currency\n",
    "number = 150000\n",
    "\n",
    "# Format the number as currency\n",
    "formatted_currency = f\"${number:,.2f}\"\n",
    "\n",
    "# Print the formatted currency\n",
    "print(formatted_currency)\n"
   ]
  },
  {
   "cell_type": "code",
   "execution_count": 11,
   "id": "b37f29a3-aafc-435b-8a38-2a540c6221fe",
   "metadata": {},
   "outputs": [
    {
     "name": "stdout",
     "output_type": "stream",
     "text": [
      "20%\n"
     ]
    }
   ],
   "source": [
    "# Calculate 2 divided by 10 and convert to percentage\n",
    "result = (2 / 10) * 100\n",
    "\n",
    "# Print the result as a percentage with no decimal places\n",
    "print(f\"{result:.0f}%\")\n"
   ]
  },
  {
   "cell_type": "code",
   "execution_count": null,
   "id": "8c777046-a609-4dc6-9b2d-c16b5cd0c445",
   "metadata": {},
   "outputs": [],
   "source": []
  }
 ],
 "metadata": {
  "kernelspec": {
   "display_name": "Python 3 (ipykernel)",
   "language": "python",
   "name": "python3"
  },
  "language_info": {
   "codemirror_mode": {
    "name": "ipython",
    "version": 3
   },
   "file_extension": ".py",
   "mimetype": "text/x-python",
   "name": "python",
   "nbconvert_exporter": "python",
   "pygments_lexer": "ipython3",
   "version": "3.13.5"
  }
 },
 "nbformat": 4,
 "nbformat_minor": 5
}
