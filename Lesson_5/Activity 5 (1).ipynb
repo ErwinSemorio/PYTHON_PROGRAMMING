{
 "cells": [
  {
   "cell_type": "markdown",
   "id": "666755ae-1d98-4ca3-9143-9b76e05f15c3",
   "metadata": {},
   "source": [
    "# Review Excercise"
   ]
  },
  {
   "cell_type": "code",
   "execution_count": 4,
   "id": "3052f24b-afb9-456a-9f56-4a694b280e1d",
   "metadata": {},
   "outputs": [
    {
     "name": "stdout",
     "output_type": "stream",
     "text": [
      "('FIRST', 'SECOND', 'THIRD')\n"
     ]
    }
   ],
   "source": [
    "# 1. CREATE ATUPLE LITERAL NAMED CARDINAL NUMBERS THAT HOLDS THE STRINGS \"FIRST\", \"SECOND\" AND \"THIRD\" , IN THAT ORDER./\n",
    "\n",
    "cardinal_numbers = (\"FIRST\", \"SECOND\", \"THIRD\")\n",
    "\n",
    "print(cardinal_numbers)\n",
    "\n"
   ]
  },
  {
   "cell_type": "code",
   "execution_count": 6,
   "id": "0dfc5a5c-dbd9-47a5-98b5-ea89dfdeca1b",
   "metadata": {},
   "outputs": [
    {
     "name": "stdout",
     "output_type": "stream",
     "text": [
      "SECOND\n"
     ]
    }
   ],
   "source": [
    "# 2. USING INDEX NOTATION AND PRINT(). DISPLAY THE STRING INDEX 1 IN CARDINAL_NUMBERS\n",
    "\n",
    "print(cardinal_numbers[1])\n"
   ]
  },
  {
   "cell_type": "code",
   "execution_count": 19,
   "id": "fc411c34-8059-4b7a-b490-6e760ea29fd1",
   "metadata": {},
   "outputs": [
    {
     "name": "stdout",
     "output_type": "stream",
     "text": [
      "FIRST\n",
      "SECOND\n",
      "THIRD\n"
     ]
    }
   ],
   "source": [
    "#3. UNPACK THE VALUES IN CARDINAL NUMBERS INTO THREE NEW STRINGS NAMED POSITION1, POSITION2 AND POSITION3 IN A SINGLE LINE OF CODE, THEN PRINT EACH VALUE ON A SEPARATE LINE.\n",
    "position1, position2, position3 = (cardinal_numbers)\n",
    "print(position1)\n",
    "print (position2)\n",
    "print (position3)"
   ]
  },
  {
   "cell_type": "code",
   "execution_count": 20,
   "id": "71e4953b-138d-4ac2-be35-3d7e271d32f4",
   "metadata": {},
   "outputs": [
    {
     "name": "stdout",
     "output_type": "stream",
     "text": [
      "('E', 'R', 'W', 'I', 'N')\n"
     ]
    }
   ],
   "source": [
    "# 4. CREATE ATUPLE CALLED MY  NAME THAT CONTAINS THE LETTERS OF YOUR NAME BY USING TUPLE() AND A STRING LITERAL.\n",
    "\n",
    "my_name = tuple(\"ERWIN\")\n",
    "\n",
    "print(my_name)\n",
    "\n",
    "\n",
    "\n"
   ]
  },
  {
   "cell_type": "code",
   "execution_count": 22,
   "id": "ef3eef2f-f2d0-4932-9032-9a26aba4fabe",
   "metadata": {},
   "outputs": [
    {
     "data": {
      "text/plain": [
       "False"
      ]
     },
     "execution_count": 22,
     "metadata": {},
     "output_type": "execute_result"
    }
   ],
   "source": [
    "# 5. CHECK WHETHER OR NOT THE CHARACTER \"X\" IS IN MY  NAME USING THE IN KEYWORD.\n",
    "\n",
    "'x' in my_name\n",
    "\n",
    "\n"
   ]
  },
  {
   "cell_type": "code",
   "execution_count": 24,
   "id": "e0a84725-a205-4536-a096-49e958fe32d7",
   "metadata": {},
   "outputs": [
    {
     "data": {
      "text/plain": [
       "'E'"
      ]
     },
     "execution_count": 24,
     "metadata": {},
     "output_type": "execute_result"
    }
   ],
   "source": [
    "# 6. CREATEA NEW TUPLE CONTAINING ALL BUT THE FIRST LETTER IN MY NAMEUSING SLICING NOTATION.\n",
    "\n",
    "my_name[0]\n",
    "\n",
    "\n"
   ]
  },
  {
   "cell_type": "markdown",
   "id": "ff9e6203-475f-4395-b143-bc15bceb7c49",
   "metadata": {},
   "source": [
    "# Review Excercise"
   ]
  },
  {
   "cell_type": "code",
   "execution_count": 55,
   "id": "8c2be681-bb4f-4d7e-abb1-4aeabe74078c",
   "metadata": {},
   "outputs": [
    {
     "name": "stdout",
     "output_type": "stream",
     "text": [
      "['rice', 'beans']\n"
     ]
    }
   ],
   "source": [
    "# 1. Create a list name food with two elements \"rice\" and \"beans\".\n",
    "\n",
    "name_food = ([\"rice\", \"beans\"])\n",
    "\n",
    "print (name_food)"
   ]
  },
  {
   "cell_type": "code",
   "execution_count": 94,
   "id": "2bb69886-af61-45b0-bcf0-5de92112004f",
   "metadata": {},
   "outputs": [
    {
     "name": "stdout",
     "output_type": "stream",
     "text": [
      "['rice', 'beans', 'broccoli', 'broccoli', 'broccoli', 'broccoli', 'broccoli', 'broccoli', 'broccoli', 'broccoli', ['broccoli'], ['broccoli'], ['broccoli'], ['broccoli'], 'broccoli', 'f', 'o', 'o', 'd', 'f', 'o', 'o', 'd', 'broccoli', 'broccoli']\n"
     ]
    }
   ],
   "source": [
    "# 2. append the string \"bread\" and \"pizza\" to \"food\" using .extend[].\n",
    "\n",
    "name_food.extend([\"broccoli\"])\n",
    "\n",
    "print (name_food)\n"
   ]
  },
  {
   "cell_type": "code",
   "execution_count": 72,
   "id": "14166960-4d85-4d5b-a681-c73aaf5d586e",
   "metadata": {},
   "outputs": [
    {
     "name": "stdout",
     "output_type": "stream",
     "text": [
      "['rice', 'beans', 'broccoli', 'broccoli', 'broccoli', 'broccoli', 'broccoli', 'broccoli', 'broccoli', 'broccoli', ['broccoli'], ['broccoli'], ['broccoli'], ['broccoli'], 'broccoli', 'f', 'o', 'o', 'd', 'f', 'o', 'o', 'd']\n"
     ]
    }
   ],
   "source": [
    "# 3. Add the string \"bread\" and \"pizza\" to \"food\" using .extend\n",
    "\n",
    "name_food.extend(\"food\")\n",
    "print (name_food)"
   ]
  },
  {
   "cell_type": "code",
   "execution_count": 80,
   "id": "b6a32818-e011-4210-88e4-089885b450de",
   "metadata": {},
   "outputs": [
    {
     "name": "stdout",
     "output_type": "stream",
     "text": [
      "['rice', 'beans']\n"
     ]
    }
   ],
   "source": [
    "# 4. print the first two items in the food list usingprint[] and slicing notation.\n",
    "\n",
    "print (name_food[0:2])\n",
    "\n"
   ]
  },
  {
   "cell_type": "code",
   "execution_count": 81,
   "id": "e6cb69b5-6075-4c4a-8120-5b11d9d35097",
   "metadata": {},
   "outputs": [
    {
     "name": "stdout",
     "output_type": "stream",
     "text": [
      "broccoli\n"
     ]
    }
   ],
   "source": [
    "# 5. print the last item in food using print() and index notation.\n",
    "\n",
    "print (name_food[3])\n"
   ]
  },
  {
   "cell_type": "code",
   "execution_count": 87,
   "id": "a8f1ebd8-f9e5-4882-a93c-4c8bdb3f4756",
   "metadata": {},
   "outputs": [
    {
     "name": "stdout",
     "output_type": "stream",
     "text": [
      "['eggs', 'fruit', 'orange juice']\n"
     ]
    }
   ],
   "source": [
    "# 6. create a list called breakfast from the string eggs, fruit, orange juice using the string.split90method.\n",
    "\n",
    "breakfast = \"eggs, fruit, orange juice\".split(\", \")\n",
    "\n",
    "print (breakfast)\n"
   ]
  },
  {
   "cell_type": "code",
   "execution_count": 89,
   "id": "46bd54af-124d-4c8a-8607-01920d52da96",
   "metadata": {},
   "outputs": [
    {
     "name": "stdout",
     "output_type": "stream",
     "text": [
      "3\n"
     ]
    }
   ],
   "source": [
    "# 7. verify that breakfast has three items using len().\n",
    "\n",
    "print (len(breakfast))"
   ]
  },
  {
   "cell_type": "code",
   "execution_count": 97,
   "id": "61cc676b-b949-49f9-80b9-1a68df407c64",
   "metadata": {},
   "outputs": [
    {
     "name": "stdout",
     "output_type": "stream",
     "text": [
      "Food list ['rice', 'beans', 'broccoli', 'broccoli', 'broccoli', 'broccoli', 'broccoli', 'broccoli', 'broccoli', 'broccoli', ['broccoli'], ['broccoli'], ['broccoli'], ['broccoli'], 'broccoli', 'f', 'o', 'o', 'd', 'f', 'o', 'o', 'd', 'broccoli', 'broccoli']\n",
      "breakfast list ['eggs', 'fruit', 'orange juice']\n",
      "Length of each item in breakfast  [4, 5, 12]\n"
     ]
    }
   ],
   "source": [
    "# 8. create a new list called lengths using a list comprehension that contains lengths of each string in the breakfast list\n",
    "\n",
    "lengths = [len(item) for item in breakfast]\n",
    "\n",
    "print (\"Food list\", name_food)\n",
    "print (\"breakfast list\", breakfast)\n",
    "print(\"Length of each item in breakfast \", lengths)\n",
    "\n"
   ]
  },
  {
   "cell_type": "markdown",
   "id": "0407d01a-4a77-4f65-bfdf-33992d6670d0",
   "metadata": {},
   "source": [
    "# Review Excercise "
   ]
  },
  {
   "cell_type": "code",
   "execution_count": 7,
   "id": "4b33b567-c2bc-4f02-a002-779c7c9c0c77",
   "metadata": {},
   "outputs": [
    {
     "data": {
      "text/plain": [
       "[[1, 2], [3, 4]]"
      ]
     },
     "execution_count": 7,
     "metadata": {},
     "output_type": "execute_result"
    }
   ],
   "source": [
    "# 1. CREATE A TUPLE DATA WITH TWO VALUES\n",
    "\n",
    "data = [[1, 2], [3, 4]]\n",
    "\n",
    "(data)"
   ]
  },
  {
   "cell_type": "code",
   "execution_count": 10,
   "id": "5583914e-f059-4bec-b2ca-0081d079ba81",
   "metadata": {},
   "outputs": [
    {
     "name": "stdout",
     "output_type": "stream",
     "text": [
      "Row 1 sum: 3\n",
      "Row 2 sum: 7\n"
     ]
    }
   ],
   "source": [
    "# 2. FOR LOOP TO PRINT THE SUM OF EACH NESTED TUPLE WITH ROW NUMBER\n",
    "\n",
    "for index, item in enumerate(data, start=1):\n",
    "    print(f\"Row {index} sum: {sum(item)}\")"
   ]
  },
  {
   "cell_type": "code",
   "execution_count": 12,
   "id": "cf87fd55-d24e-4831-84db-0b43cf6722d0",
   "metadata": {},
   "outputs": [
    {
     "data": {
      "text/plain": [
       "[5, 2, 9, 11]"
      ]
     },
     "execution_count": 12,
     "metadata": {},
     "output_type": "execute_result"
    }
   ],
   "source": [
    "numbers = [4, 5, 2, 9, 11]\n",
    "\n",
    "numbers[1:5]\n",
    "\n"
   ]
  },
  {
   "cell_type": "code",
   "execution_count": 14,
   "id": "8919feba-4cc0-41d5-bbbf-678bba5b6f55",
   "metadata": {},
   "outputs": [
    {
     "data": {
      "text/plain": [
       "[2, 4, 5, 9, 11]"
      ]
     },
     "execution_count": 14,
     "metadata": {},
     "output_type": "execute_result"
    }
   ],
   "source": [
    "numbers.sort()\n",
    "\n",
    "(numbers)"
   ]
  },
  {
   "cell_type": "markdown",
   "id": "647bf030-330f-4b50-b420-5d04762717ad",
   "metadata": {},
   "source": [
    "# Challenge : List of lists"
   ]
  },
  {
   "cell_type": "code",
   "execution_count": 16,
   "id": "4d7b1eb9-62fd-407a-a18f-4fc7d962c4a4",
   "metadata": {},
   "outputs": [
    {
     "data": {
      "text/plain": [
       "[['California Institute of Technology', 2175, 37704],\n",
       " ['Harvard. ', 19627, 39849],\n",
       " ['Massachusetts Institute of Technology', 10566, 40732],\n",
       " ['Princeton', 7802, 37000],\n",
       " ['rice', 5879, 35551],\n",
       " ['Stanford', 19535, 40569],\n",
       " ['Yale', 11701, 40500]]"
      ]
     },
     "execution_count": 16,
     "metadata": {},
     "output_type": "execute_result"
    }
   ],
   "source": [
    "universities = [\n",
    "    ['California Institute of Technology', 2175, 37704],\n",
    "    ['Harvard. ', 19627, 39849],\n",
    "    ['Massachusetts Institute of Technology', 10566, 40732],\n",
    "    ['Princeton', 7802, 37000],\n",
    "    ['rice', 5879, 35551],\n",
    "    ['Stanford', 19535, 40569],\n",
    "    ['Yale', 11701, 40500]  \n",
    "]\n",
    "\n",
    "\n",
    "(universities)"
   ]
  },
  {
   "cell_type": "markdown",
   "id": "f0e2c491-4871-497d-bda8-d09eebbe0bb3",
   "metadata": {},
   "source": [
    "# Challenge: Wax Poetic"
   ]
  },
  {
   "cell_type": "code",
   "execution_count": 18,
   "id": "ba92d7d5-cfa0-428f-9719-cac30e02e094",
   "metadata": {},
   "outputs": [
    {
     "data": {
      "text/plain": [
       "['Fossils',\n",
       " 'Horse',\n",
       " 'Aardvark',\n",
       " 'Judge ',\n",
       " 'Chef',\n",
       " 'Mango',\n",
       " 'Extrovert',\n",
       " 'Gorilla']"
      ]
     },
     "execution_count": 18,
     "metadata": {},
     "output_type": "execute_result"
    }
   ],
   "source": [
    "nouns = [\"Fossils\", \"Horse\", \"Aardvark\", \"Judge \", \n",
    "         \"Chef\", \"Mango\", \"Extrovert\", \"Gorilla\"]\n",
    "(nouns)"
   ]
  },
  {
   "cell_type": "code",
   "execution_count": 20,
   "id": "6c13c3f7-9329-4ae2-b8d3-d7a525446e50",
   "metadata": {},
   "outputs": [
    {
     "data": {
      "text/plain": [
       "['KICKS', 'JINGLES', 'BOUNCES', 'SLURPS', 'MEOWS', 'EXPLODES', 'CURDLES']"
      ]
     },
     "execution_count": 20,
     "metadata": {},
     "output_type": "execute_result"
    }
   ],
   "source": [
    "verbs = [\"KICKS\", \"JINGLES\", \"BOUNCES\", \"SLURPS\", \"MEOWS\", \"EXPLODES\", \"CURDLES\"]\n",
    "(verbs)"
   ]
  },
  {
   "cell_type": "code",
   "execution_count": 21,
   "id": "d558d81c-85b1-4055-a260-e90efe5f75ba",
   "metadata": {},
   "outputs": [
    {
     "data": {
      "text/plain": [
       "['FURRY', 'BALDING', 'INCREDULOUS', 'FRAGRANT', 'EXUBERANT', 'GLISTENING']"
      ]
     },
     "execution_count": 21,
     "metadata": {},
     "output_type": "execute_result"
    }
   ],
   "source": [
    "adjectives = [\"FURRY\", \"BALDING\", \"INCREDULOUS\", \"FRAGRANT\", \"EXUBERANT\", \"GLISTENING\"]\n",
    "(adjectives)"
   ]
  },
  {
   "cell_type": "code",
   "execution_count": 22,
   "id": "28c953f2-9b32-48d6-8f23-ed6ac100321d",
   "metadata": {},
   "outputs": [
    {
     "data": {
      "text/plain": [
       "['AGAINST',\n",
       " 'AFTER',\n",
       " 'INTO',\n",
       " 'BENEATH',\n",
       " 'UPON',\n",
       " 'FOR',\n",
       " 'IN',\n",
       " 'LIKE',\n",
       " 'OVER',\n",
       " 'WITHIN']"
      ]
     },
     "execution_count": 22,
     "metadata": {},
     "output_type": "execute_result"
    }
   ],
   "source": [
    "prepositions = [\"AGAINST\", \"AFTER\", \"INTO\", \"BENEATH\", \"UPON\", \"FOR\", \"IN\", \"LIKE\", \"OVER\", \"WITHIN\"]\n",
    "(prepositions)"
   ]
  },
  {
   "cell_type": "code",
   "execution_count": 23,
   "id": "98a450e8-9b0d-4908-9c50-fdbc5ccd55b4",
   "metadata": {},
   "outputs": [
    {
     "data": {
      "text/plain": [
       "['CURIOUSLY', 'FURIOUSLY', 'SENSUOUSLY', 'EXTRAVAGANTLY', 'TANTALIZINGLY']"
      ]
     },
     "execution_count": 23,
     "metadata": {},
     "output_type": "execute_result"
    }
   ],
   "source": [
    "adverbs = [\"CURIOUSLY\", \"FURIOUSLY\", \"SENSUOUSLY\", \"EXTRAVAGANTLY\", \"TANTALIZINGLY\"]\n",
    "(adverbs)"
   ]
  },
  {
   "cell_type": "code",
   "execution_count": 33,
   "id": "189fb751-df68-4778-9009-29905a93cc72",
   "metadata": {},
   "outputs": [
    {
     "name": "stdout",
     "output_type": "stream",
     "text": [
      "Nouns:  ['Fossils', 'Horse', 'Aardvark', 'Judge ', 'Chef', 'Mango', 'Extrovert', 'Gorilla']\n",
      "Verbs  ['KICKS', 'JINGLES', 'BOUNCES', 'SLURPS', 'MEOWS', 'EXPLODES', 'CURDLES']\n",
      "Adjectives:  ['FURRY', 'BALDING', 'INCREDULOUS', 'FRAGRANT', 'EXUBERANT', 'GLISTENING']\n",
      "Prepostions:  ['AGAINST', 'AFTER', 'INTO', 'BENEATH', 'UPON', 'FOR', 'IN', 'LIKE', 'OVER', 'WITHIN']\n",
      "Adverbs:  ['CURIOUSLY', 'FURIOUSLY', 'SENSUOUSLY', 'EXTRAVAGANTLY', 'TANTALIZINGLY']\n"
     ]
    }
   ],
   "source": [
    "print(\"Nouns: \", nouns)\n",
    "print(\"Verbs \", verbs)\n",
    "print(\"Adjectives: \", adjectives)\n",
    "print(\"Prepostions: \", prepositions)\n",
    "print(\"Adverbs: \", adverbs)"
   ]
  },
  {
   "cell_type": "markdown",
   "id": "40bbf043-3d55-41a7-bf82-e43e6e99e45b",
   "metadata": {},
   "source": [
    "# Review Excercises"
   ]
  },
  {
   "cell_type": "code",
   "execution_count": 3,
   "id": "7da49c12-1cfa-477b-90ad-533a3b15506d",
   "metadata": {},
   "outputs": [
    {
     "name": "stdout",
     "output_type": "stream",
     "text": [
      "The Enterprise is captained by Picard.\n",
      "The Voyager is captained by Janeway.\n",
      "The Defiant is captained by Sisko.\n",
      "The Discovery is captained by Unknown.\n"
     ]
    }
   ],
   "source": [
    "# 1. Create an empty dictionary named captains\n",
    "captains = {}\n",
    "\n",
    "# 2. Add the given key-value pairs using square bracket notation\n",
    "captains['Enterprise'] = 'Picard'\n",
    "captains['Voyager'] = 'Janeway'\n",
    "captains['Defiant'] = 'Sisko'\n",
    "\n",
    "# 3. Check if 'Enterprise' and 'Discovery' exist as keys\n",
    "if 'Enterprise' not in captains:\n",
    "    captains['Enterprise'] = 'Unknown'\n",
    "\n",
    "if 'Discovery' not in captains:\n",
    "    captains['Discovery'] = 'Unknown'\n",
    "\n",
    "# 4. For loop to display the ship and captain names\n",
    "for ship, captain in captains.items():\n",
    "    print(f\"The {ship} is captained by {captain}.\")"
   ]
  },
  {
   "cell_type": "code",
   "execution_count": 4,
   "id": "82d18680-367f-40a8-8753-ab5cd706c5cc",
   "metadata": {},
   "outputs": [
    {
     "name": "stdout",
     "output_type": "stream",
     "text": [
      "\n",
      "\n",
      "After deleting 'Discovery': \n",
      "\n",
      "\n",
      "The Enterprise is captained by Picard.\n",
      "\n",
      "\n",
      "The Voyager is captained by Janeway.\n",
      "\n",
      "\n",
      "The Defiant is captained by Sisko.\n"
     ]
    }
   ],
   "source": [
    "if 'Discovery' in captains:\n",
    "    del captains['Discovery']\n",
    "\n",
    "print(\"\\n\\nAfter deleting 'Discovery': \")\n",
    "for ship, captain in captains.items():\n",
    "    print(f\"\\n\\nThe {ship} is captained by {captain}.\")"
   ]
  },
  {
   "cell_type": "markdown",
   "id": "5aabd32f-8c82-47ed-93c6-74f80ebb68aa",
   "metadata": {},
   "source": [
    "# CHALLENGE: CAPITAL CITY LOOP"
   ]
  },
  {
   "cell_type": "code",
   "execution_count": 5,
   "id": "18e0fcaa-40e8-4ef0-a143-193b6892b76d",
   "metadata": {},
   "outputs": [
    {
     "name": "stdout",
     "output_type": "stream",
     "text": [
      "The capital of Alabama is Montgomery.\n",
      "The capital of Alaska is Juneau.\n",
      "The capital of Arizona is Phoenix.\n",
      "The capital of Arkansas is Little Rock.\n",
      "The capital of California is Sacramento.\n",
      "The capital of Colorado is Denver.\n",
      "The capital of Connecticut is Hartford.\n",
      "The capital of Delaware is Dover.\n",
      "The capital of Florida is Tallahassee.\n",
      "The capital of Georgia is Atlanta.\n"
     ]
    }
   ],
   "source": [
    "capitals = {\n",
    "    \"Alabama\": \"Montgomery\",\n",
    "    \"Alaska\": \"Juneau\",\n",
    "    \"Arizona\": \"Phoenix\",\n",
    "    \"Arkansas\": \"Little Rock\",\n",
    "    \"California\": \"Sacramento\",\n",
    "    'California': 'Sacramento',\n",
    "    'Colorado': 'Denver',\n",
    "    'Connecticut': 'Hartford',\n",
    "    'Delaware': 'Dover',\n",
    "    'Florida': 'Tallahassee',\n",
    "    'Georgia': 'Atlanta',\n",
    "}\n",
    "\n",
    "for state, capital in capitals.items():\n",
    "    print(f\"The capital of {state} is {capital}.\")"
   ]
  }
 ],
 "metadata": {
  "kernelspec": {
   "display_name": "Python 3 (ipykernel)",
   "language": "python",
   "name": "python3"
  },
  "language_info": {
   "codemirror_mode": {
    "name": "ipython",
    "version": 3
   },
   "file_extension": ".py",
   "mimetype": "text/x-python",
   "name": "python",
   "nbconvert_exporter": "python",
   "pygments_lexer": "ipython3",
   "version": "3.13.5"
  }
 },
 "nbformat": 4,
 "nbformat_minor": 5
}
