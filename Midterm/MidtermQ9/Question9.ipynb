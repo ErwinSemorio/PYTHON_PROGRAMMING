{
 "cells": [
  {
   "cell_type": "markdown",
   "id": "804a122d-1cc5-4545-9d46-a55b1224baad",
   "metadata": {},
   "source": [
    "**Q9. Modules and Packages**\n",
    "\n",
    "Create a package helpers/ with modules\n",
    "string_utils.py (function shout(s) uppercases) and math_utils.py (function area(l,w)).\n",
    "Then a main.py that imports with both import ... as ... and from ...\n",
    "import .... Explain namespace collisions and why aliases help. Anchor concepts: modules, packages, import variations, namespaces. Reference: :contentReference[oaicite:15]index=15"
   ]
  },
  {
   "cell_type": "markdown",
   "id": "ec347256-2b2f-4e7d-88de-20c8439213dd",
   "metadata": {},
   "source": [
    "**Prompt**\n",
    "\n",
    "Create package helpers/ with string_utils.py (shout function) and math_utils.py (area function). Import in main.py using both alias and from ... import .... Explain namespace collisions and aliases."
   ]
  },
  {
   "cell_type": "code",
   "execution_count": 1,
   "id": "cbd622e2-f775-4067-9f37-e3da522ec544",
   "metadata": {},
   "outputs": [
    {
     "name": "stdout",
     "output_type": "stream",
     "text": [
      "HELLO WORLD\n",
      "50\n"
     ]
    }
   ],
   "source": [
    "# helpers/string_utils.py\n",
    "def shout(s):\n",
    "    return s.upper()\n",
    "\n",
    "# helpers/math_utils.py\n",
    "def area(l, w):\n",
    "    return l * w\n",
    "\n",
    "# main.py\n",
    "import helpers.string_utils as su\n",
    "from helpers.math_utils import area\n",
    "\n",
    "def main():\n",
    "    print(su.shout(\"hello world\"))\n",
    "    print(area(5, 10))\n",
    "\n",
    "if __name__ == \"__main__\":\n",
    "    main()\n"
   ]
  },
  {
   "cell_type": "code",
   "execution_count": null,
   "id": "4299335a-5feb-4bf9-bed6-1d261c6ab529",
   "metadata": {},
   "outputs": [],
   "source": []
  }
 ],
 "metadata": {
  "kernelspec": {
   "display_name": "Python 3 (ipykernel)",
   "language": "python",
   "name": "python3"
  },
  "language_info": {
   "codemirror_mode": {
    "name": "ipython",
    "version": 3
   },
   "file_extension": ".py",
   "mimetype": "text/x-python",
   "name": "python",
   "nbconvert_exporter": "python",
   "pygments_lexer": "ipython3",
   "version": "3.13.5"
  }
 },
 "nbformat": 4,
 "nbformat_minor": 5
}
