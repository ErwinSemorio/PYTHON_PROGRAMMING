{
 "cells": [
  {
   "cell_type": "markdown",
   "id": "29ad4c19-9058-4159-95aa-d94eec46c211",
   "metadata": {},
   "source": [
    "**Q1. String Normalizer & Finder**\n",
    "\n",
    "Write a function normalize_and_find(text:\n",
    "str, needle: str) -> int that: (1) trims whitespace on both ends, (2) converts to lowercase, then (3) returns the index of the first occurrence of needle using\n",
    "a safe search (return −1 if not found). Discuss alternatives (find vs. index), and\n",
    "how your choice affects error handling. Anchor concepts: stripping, case conversion,\n",
    "find/replace, string immutability. Reference: :contentReference[oaicite:6]index=6"
   ]
  },
  {
   "cell_type": "markdown",
   "id": "9af84f90-ca51-4262-a379-bea1386ee100",
   "metadata": {},
   "source": [
    "**Prompt**\n",
    "\n",
    "Write a Python function normalize_and_find(text, needle) that trims both ends, converts to lowercase, and finds the first index of needle. Return -1 if not found. Add a short test case.\n"
   ]
  },
  {
   "cell_type": "code",
   "execution_count": 10,
   "id": "cd4ebfc5-080a-4f1a-ba56-a53589ffbbd7",
   "metadata": {},
   "outputs": [
    {
     "name": "stdout",
     "output_type": "stream",
     "text": [
      "6\n"
     ]
    }
   ],
   "source": [
    "# **Chatgpt Code**\n",
    "\n",
    "def normalize_and_find(text, needle):\n",
    "    text = text.strip().lower()\n",
    "    needle = needle.lower()\n",
    "    index = text.find(needle)\n",
    "    return index\n",
    "\n",
    "# test\n",
    "print(normalize_and_find(\"   Hello World  \", \"world\"))\n"
   ]
  },
  {
   "cell_type": "markdown",
   "id": "d87e8921-03d5-43be-8ff9-42b452888714",
   "metadata": {},
   "source": [
    "**Critique**\n",
    "\n",
    "Correctness: Works well; trims, lowers, and finds the substring.\n",
    "\n",
    "Complexity: Time: O(n), Space: O(n) (for the lowercase version).\n",
    "\n",
    "Robustness: No input validation (e.g., non-string input).\n",
    "\n",
    "Readability: Needs better variable names and comments.\n",
    "\n",
    "Improvement: Use .find() for safe searching and add a docstring."
   ]
  },
  {
   "cell_type": "code",
   "execution_count": 9,
   "id": "10defa97-973d-4b0e-94d0-8dc359dab380",
   "metadata": {},
   "outputs": [
    {
     "name": "stdout",
     "output_type": "stream",
     "text": [
      "6\n",
      "10\n",
      "-1\n",
      "-1\n"
     ]
    }
   ],
   "source": [
    "def normalize_and_find(text: str, needle: str) -> int:\n",
    "    \"\"\"\n",
    "    Normalize the text by stripping whitespace and converting to lowercase,\n",
    "    then return the index of the first occurrence of `needle`.\n",
    "    Returns -1 if not found.\n",
    "    \"\"\"\n",
    "    if not isinstance(text, str) or not isinstance(needle, str):\n",
    "        raise TypeError(\"Both text and needle must be strings.\")\n",
    "\n",
    "    normalized = text.strip().lower()\n",
    "    needle = needle.lower()\n",
    "    return normalized.find(needle)\n",
    "\n",
    "\n",
    "if __name__ == \"__main__\":\n",
    "    # test cases\n",
    "    print(normalize_and_find(\"   Hello World  \", \"world\"))      # expected: 6\n",
    "    print(normalize_and_find(\"Python Programming\", \"gram\"))      # expected: 10\n",
    "    print(normalize_and_find(\"   Spaces   \", \"x\"))               # expected: -1\n",
    "    print(normalize_and_find(\"\", \"anything\"))                    # expected: -1\n"
   ]
  },
  {
   "cell_type": "markdown",
   "id": "70acc3b9-d072-4fb4-b5e6-8777ce8d0299",
   "metadata": {},
   "source": [
    "**Q2. Leetspeak Translator (Parametric)**\n",
    "\n",
    "Generalize our leetspeak idea: write translate(text:\n",
    "str, mapping: dict[str,str]) -> str that applies a mapping (e.g., {’a’:’4’,’e’:’3’,...})\n",
    "over lowercase letters only, leaving others unchanged. Explain why strings are immutable and show an efficient approach (e.g., list join vs. repeated concatenation).\n",
    "Anchor concepts: replace, iteration strategies, efficiency. Reference: :contentRefer"
   ]
  },
  {
   "cell_type": "markdown",
   "id": "56f8a299-0118-478e-a9df-e100b1712891",
   "metadata": {},
   "source": [
    "**prompt**\n",
    "\n",
    "Generalize our leetspeak idea: write translate(text: str, mapping: dict[str,str]) -> str that applies a mapping (e.g., {’a’:’4’,’e’:’3’,...}) over lowercase letters only, leaving others unchanged."
   ]
  },
  {
   "cell_type": "code",
   "execution_count": 12,
   "id": "36fcd4ea-a0c7-46ba-aaa9-d53edb39df16",
   "metadata": {},
   "outputs": [
    {
     "name": "stdout",
     "output_type": "stream",
     "text": [
      "4774ck 47 D4wn\n"
     ]
    }
   ],
   "source": [
    "# Chatgpt code \n",
    "\n",
    "\n",
    "def translate(text, mapping):\n",
    "    result = ''\n",
    "    for ch in text:\n",
    "        if ch.lower() in mapping:\n",
    "            result += mapping[ch.lower()]\n",
    "        else:\n",
    "            result += ch\n",
    "    return result\n",
    "print(translate(\"Attack at Dawn\", {'a':'4','t':'7'}))\n"
   ]
  },
  {
   "cell_type": "markdown",
   "id": "2f615898-efc7-4870-b568-69aed44b7b0e",
   "metadata": {},
   "source": [
    "**Critique**\n",
    "\n",
    "Correctness: Correct logic; it replaces only lowercase letters.\n",
    "\n",
    "Complexity: Time: O(n), Space: O(n).\n",
    "\n",
    "Robustness: No checks for invalid input (e.g., non-dictionary or non-string).\n",
    "\n",
    "Readability: Could use a list comprehension for efficiency and better naming.\n",
    "\n",
    "Improvement: Add input validation and use join instead of repeated concatenation."
   ]
  },
  {
   "cell_type": "code",
   "execution_count": 21,
   "id": "0460d667-6535-4e81-b931-cea6b517e34d",
   "metadata": {},
   "outputs": [
    {
     "name": "stdout",
     "output_type": "stream",
     "text": [
      "Q2 tests passed.\n"
     ]
    }
   ],
   "source": [
    "# Improved Code\n",
    "\n",
    "def translate(text: str, mapping: dict[str, str]) -> str:\n",
    "    \"\"\"\n",
    "    Translate the text into leetspeak using the given mapping.\n",
    "    Only words that are fully lowercase are translated.\n",
    "    Uppercase and mixed-case words remain unchanged.\n",
    "    \"\"\"\n",
    "    words = text.split()\n",
    "    translated_words = []\n",
    "\n",
    "    for word in words:\n",
    "        # Only translate if the whole word is lowercase\n",
    "        if word.islower():\n",
    "            new_word = ''.join(mapping.get(ch, ch) for ch in word)\n",
    "            translated_words.append(new_word)\n",
    "        else:\n",
    "            translated_words.append(word)\n",
    "\n",
    "    return ' '.join(translated_words)\n",
    "\n",
    "\n",
    "if __name__ == \"__main__\":\n",
    "    mapping = {'a': '4', 'e': '3', 't': '7', 'o': '0'}\n",
    "\n",
    "    # test cases\n",
    "    assert translate(\"attack at dawn\", mapping) == \"4774ck 47 d4wn\"\n",
    "    assert translate(\"Attack At Dawn\", mapping) == \"Attack At Dawn\"  # uppercase untouched\n",
    "    assert translate(\"hello!\", mapping) == \"h3ll0!\"\n",
    "    \n",
    "    print(\"Q2 tests passed.\")\n"
   ]
  },
  {
   "cell_type": "markdown",
   "id": "b8d43d9f-b227-4330-9ead-4676d07134a7",
   "metadata": {},
   "source": [
    "**Q3. Currency Formatter & Rounding Ties-to-Even**\n",
    "\n",
    "Write fmt_money(x: float)\n",
    "-> str that returns a string like 1,234.50 using proper rounding (banker’s rounding / ties-to-even). Include test cases that demonstrate ties (e.g., 2.5, 3.5). Explain\n",
    "2\n",
    "floating-point representation error and how formatting mitigates it for display. Anchor concepts: numbers, round, representation error, formatted printing. Reference:\n",
    ":contentReference[oaicite:8]index=8\n"
   ]
  },
  {
   "cell_type": "markdown",
   "id": "a369a56b-c1fa-46cc-815d-6fb0cd7a3de7",
   "metadata": {},
   "source": [
    "**Prompt**\n",
    "\n",
    "Write fmt_money(x: float) -> str that returns a string like 1,234.50 using proper rounding (banker’s rounding / ties-to-even). Include test cases that demonstrate ties (e.g., 2.5, 3.5)."
   ]
  },
  {
   "cell_type": "code",
   "execution_count": 23,
   "id": "6fa04a1a-e101-44e3-9c52-3106b90dfde9",
   "metadata": {},
   "outputs": [
    {
     "name": "stdout",
     "output_type": "stream",
     "text": [
      "1,234.50\n"
     ]
    }
   ],
   "source": [
    "# Chatgpt Code\n",
    "\n",
    "def fmt_money(x):\n",
    "    return f\"{x:,.2f}\"\n",
    "print(fmt_money(1234.5))\n"
   ]
  },
  {
   "cell_type": "markdown",
   "id": "8b0379a8-d3a7-40d0-aa88-6f03a89be2af",
   "metadata": {},
   "source": [
    "**Critique**\n",
    "Correctness: Works well; trims, lowers, and finds the substring.\n",
    "\n",
    "Complexity: Time: O(n), Space: O(n) (for the lowercase version).\n",
    "\n",
    "Robustness: No input validation (e.g., non-string input).\n",
    "\n",
    "Readability: Needs better variable names and comments.\n",
    "\n",
    "Improvement: Use .find() for safe searching and add a docstring."
   ]
  },
  {
   "cell_type": "code",
   "execution_count": 8,
   "id": "633adef9-c260-41b1-9e22-f1be22afd189",
   "metadata": {},
   "outputs": [
    {
     "name": "stdout",
     "output_type": "stream",
     "text": [
      "Q3 tests passed.\n"
     ]
    }
   ],
   "source": [
    "#Improved Code\n",
    "\n",
    "from decimal import Decimal, ROUND_HALF_EVEN, InvalidOperation\n",
    "\n",
    "def fmt_money(x) -> str:\n",
    "   \n",
    "    try:\n",
    "        dec = Decimal(str(x))\n",
    "    except (InvalidOperation, TypeError, ValueError):\n",
    "        raise TypeError(\"x must be numeric or convertible to Decimal\")\n",
    "    q = dec.quantize(Decimal(\"0.01\"), rounding=ROUND_HALF_EVEN)\n",
    "    return f\"{q:,.2f}\"\n",
    "\n",
    "if __name__ == \"__main__\":\n",
    "    from decimal import Decimal\n",
    "    assert fmt_money(1234.5) == \"1,234.50\"\n",
    "    assert fmt_money(Decimal(\"2.5\")) == \"2.50\"\n",
    "    assert fmt_money(Decimal(\"3.5\")) == \"3.50\"\n",
    "    # ties-to-even example where float binary may be tricky:\n",
    "    assert fmt_money(Decimal(\"2.345\")) == fmt_money(2.345)\n",
    "    print(\"Q3 tests passed.\")\n"
   ]
  },
  {
   "cell_type": "markdown",
   "id": "f3d58184-1243-4325-bc80-f19fc889f168",
   "metadata": {},
   "source": [
    "**Q4. Exponent Tool & Input Validation (CLI)**\n",
    "\n",
    "Create a CLI program exponent.py that\n",
    "reads two values, validates they are numeric, handles errors gracefully (e.g., ValueError),\n",
    "and prints a ** b with clear messages. Compare using try/except vs. pre-validation\n",
    "with str.isdigit() (and why isdigit() is insufficient for negatives/floats). Anchor concepts: arithmetic operators, exceptions, input. Reference: :contentReference[oaicite:9]index=9, :contentReference[oaicite:10]index=10\n"
   ]
  },
  {
   "cell_type": "markdown",
   "id": "b37c3795-5f42-46c1-944c-7a0eb4c09467",
   "metadata": {},
   "source": [
    "**Prompt**\n",
    "\n",
    "Create a CLI program exponent.py that reads two values, validates they are numeric, handles errors gracefully (e.g., ValueError), and prints a ** b with clear messages. Compare using try/except vs. pre-validation with str.isdigit() (and why isdigit() is insufficient for negatives/floats)."
   ]
  },
  {
   "cell_type": "code",
   "execution_count": 29,
   "id": "2ef1341d-6c7f-44f1-9c0d-7469c01ae419",
   "metadata": {},
   "outputs": [
    {
     "name": "stdin",
     "output_type": "stream",
     "text": [
      "Enter base number:  1\n",
      "Enter exponent:  2\n"
     ]
    },
    {
     "name": "stdout",
     "output_type": "stream",
     "text": [
      "1.0 raised to the power of 2.0 is 1.0\n"
     ]
    }
   ],
   "source": [
    "#Chatgpt Code\n",
    "\n",
    "def exponent_tool():\n",
    "    try:\n",
    "        a = float(input(\"Enter base number: \"))\n",
    "        b = float(input(\"Enter exponent: \"))\n",
    "        result = a ** b\n",
    "        print(f\"{a} raised to the power of {b} is {result}\")\n",
    "    except ValueError:\n",
    "        print(\"Invalid input. Please enter numeric values.\")\n",
    "\n",
    "exponent_tool()\n"
   ]
  },
  {
   "cell_type": "markdown",
   "id": "f7811471-cd7a-4326-bc6f-eb1eed8bec7c",
   "metadata": {},
   "source": [
    "**Critique**\n",
    "\n",
    "\n",
    "Correctness: Works fine for valid numeric inputs and handles ValueError. However, it doesn’t loop for retries or allow graceful exit.\n",
    "\n",
    "Time & Space Complexity: O(1) for input and computation. Very minimal resources used.\n",
    "\n",
    "Robustness: Handles errors but only once; user must rerun program if they make a mistake. Doesn’t check for empty input or quitting.\n",
    "\n",
    "Readability/Style: Simple and clean, but lacks explanatory comments and type hints. Function name could be more descriptive.\n",
    "\n",
    "Faithfulness: Correctly uses try/except as discussed in lectures about input validation and exceptions.."
   ]
  },
  {
   "cell_type": "code",
   "execution_count": 31,
   "id": "fb4a101b-08c9-40ca-9265-b48408ef207a",
   "metadata": {},
   "outputs": [
    {
     "name": "stdin",
     "output_type": "stream",
     "text": [
      "Enter base number (Q to quit):  1\n",
      "Enter exponent:  2\n"
     ]
    },
    {
     "name": "stdout",
     "output_type": "stream",
     "text": [
      "1.0 ^ 2.0 = 1.0\n"
     ]
    },
    {
     "name": "stdin",
     "output_type": "stream",
     "text": [
      "Enter base number (Q to quit):  q\n"
     ]
    },
    {
     "name": "stdout",
     "output_type": "stream",
     "text": [
      "Goodbye!\n"
     ]
    }
   ],
   "source": [
    "# Improved Code\n",
    "\n",
    "def exponent_program():\n",
    "    \n",
    "    while True:\n",
    "        base_input = input(\"Enter base number (Q to quit): \")\n",
    "        if base_input.lower() == 'q':\n",
    "            print(\"Goodbye!\")\n",
    "            break\n",
    "        exp_input = input(\"Enter exponent: \")\n",
    "        try:\n",
    "            base = float(base_input)\n",
    "            exponent = float(exp_input)\n",
    "            print(f\"{base} ^ {exponent} = {base ** exponent}\")\n",
    "        except ValueError:\n",
    "            print(\"Invalid input! Please enter numeric values only.\\n\")\n",
    "\n",
    "# Run program\n",
    "if __name__ == \"__main__\":\n",
    "    exponent_program()\n"
   ]
  },
  {
   "cell_type": "markdown",
   "id": "cfe1c18f-6894-4f94-9cdd-bbcee4a02903",
   "metadata": {},
   "source": [
    "**Q5. Password Policy Checker**\n",
    "\n",
    ". Implement check_password(pw:\n",
    "str) -> dict that validates: length ≥ 10, at least one uppercase, one lowercase,\n",
    "one digit, one symbol in !@#$%^&*, and no spaces. Return a dict of booleans per\n",
    "rule and an overall pass/fail. Include a loop that prompts until a valid password\n",
    "is entered (allow quit with Q/q). Anchor concepts: conditionals, logical operators,\n",
    "loops, break/continue. Reference: :contentReference[oaicite:11]index=11\n"
   ]
  },
  {
   "cell_type": "markdown",
   "id": "5c264eb9-bc41-40a5-8322-f0294e38ba37",
   "metadata": {},
   "source": [
    "**Prompt**\n",
    "\n",
    "Implement check_password(pw: str) -> dict that validates: length ≥ 10, at least one uppercase, one lowercase, one digit, one symbol in !@#$%^&*, and no spaces. Return a dict of booleans per rule and an overall pass/fail. Include a loop that prompts until a valid password is entered (allow quit with Q/q)."
   ]
  },
  {
   "cell_type": "code",
   "execution_count": 35,
   "id": "682108e3-e4ba-41fc-be1a-bf3ded2b34ac",
   "metadata": {},
   "outputs": [
    {
     "name": "stdin",
     "output_type": "stream",
     "text": [
      "Enter a password (Q to quit):  passworD1!\n"
     ]
    },
    {
     "name": "stdout",
     "output_type": "stream",
     "text": [
      "{'length': True, 'uppercase': True, 'lowercase': True, 'digit': True, 'symbol': True, 'no_space': True, 'overall': True}\n"
     ]
    },
    {
     "name": "stdin",
     "output_type": "stream",
     "text": [
      "Enter a password (Q to quit):  q\n"
     ]
    }
   ],
   "source": [
    "# Chatgpt Code\n",
    "\n",
    "def check_password(pw: str) -> dict:\n",
    "    results = {\n",
    "        \"length\": len(pw) >= 10,\n",
    "        \"uppercase\": any(c.isupper() for c in pw),\n",
    "        \"lowercase\": any(c.islower() for c in pw),\n",
    "        \"digit\": any(c.isdigit() for c in pw),\n",
    "        \"symbol\": any(c in \"!@#$%^&*\" for c in pw),\n",
    "        \"no_space\": \" \" not in pw,\n",
    "    }\n",
    "    results[\"overall\"] = all(results.values())\n",
    "    return results\n",
    "\n",
    "while True:\n",
    "    pw = input(\"Enter a password (Q to quit): \")\n",
    "    if pw.lower() == 'q':\n",
    "        break\n",
    "    res = check_password(pw)\n",
    "    print(res)\n"
   ]
  },
  {
   "cell_type": "markdown",
   "id": "d5bf6a86-b9cc-48ba-b5e4-4d2843626b2a",
   "metadata": {},
   "source": [
    "**Critique**\n",
    "\n",
    "Correctness: Correct checks for password rules.\n",
    "\n",
    "Complexity: Time: O(n) for string checks, Space: O(1).\n",
    "\n",
    "Robustness: Needs validation for edge cases (e.g., empty passwords).\n",
    "\n",
    "Readability: Clear logic but could use more comments and smaller helper functions.\n",
    "\n",
    "Improvement: Validate input types and improve clarity.\n"
   ]
  },
  {
   "cell_type": "code",
   "execution_count": null,
   "id": "c65ec983-ebd2-4c5d-91c8-bbe330ea6d08",
   "metadata": {},
   "outputs": [
    {
     "name": "stdin",
     "output_type": "stream",
     "text": [
      "Enter a password (Q to quit):  Hello123!!\n"
     ]
    },
    {
     "name": "stdout",
     "output_type": "stream",
     "text": [
      "length: ✔️\n",
      "uppercase: ✔️\n",
      "lowercase: ✔️\n",
      "digit: ✔️\n",
      "symbol: ✔️\n",
      "no_space: ✔️\n",
      "overall: ✔️\n",
      "Password accepted.\n",
      "\n"
     ]
    }
   ],
   "source": [
    "def check_password(pw: str) -> dict:\n",
    "    \"\"\"Check if the password meets all required rules.\"\"\"\n",
    "    results = {\n",
    "        \"length\": len(pw) >= 10,\n",
    "        \"uppercase\": any(c.isupper() for c in pw),\n",
    "        \"lowercase\": any(c.islower() for c in pw),\n",
    "        \"digit\": any(c.isdigit() for c in pw),\n",
    "        \"symbol\": any(c in \"!@#$%^&*\" for c in pw),\n",
    "        \"no_space\": \" \" not in pw,\n",
    "    }\n",
    "    results[\"overall\"] = all(results.values())\n",
    "    return results\n",
    "\n",
    "def prompt_password():\n",
    "    while True:\n",
    "        pw = input(\"Enter a password (Q to quit): \")\n",
    "        if pw.lower() == 'q':\n",
    "            print(\"Goodbye!\")\n",
    "            break\n",
    "        result = check_password(pw)\n",
    "        for rule, passed in result.items():\n",
    "            print(f\"{rule}: {'✔️' if passed else '❌'}\")\n",
    "        if result[\"overall\"]:\n",
    "            print(\"Password accepted.\\n\")\n",
    "        else:\n",
    "            print(\"Password does not meet all requirements.\\n\")\n",
    "\n",
    "if __name__ == \"__main__\":\n",
    "    prompt_password()\n"
   ]
  },
  {
   "cell_type": "markdown",
   "id": "280ae4c4-b5ee-4f84-b92b-d4315fed071b",
   "metadata": {},
   "source": [
    "**Q6. Dice Simulation (Monte Carlo)**\n",
    "\n",
    "Write roll() -> int to simulate a fair die,\n",
    "then simulate 100,000 rolls to estimate the probability that the sum of two dice\n",
    "equals 7. Compare empirical result to the exact probability. Comment on random\n",
    "seeding and reproducibility. Anchor concepts: random module, simulation, averages.\n",
    "Reference: :contentReference[oaicite:12]index=12"
   ]
  },
  {
   "cell_type": "markdown",
   "id": "0382a04d-b4d9-4f3f-8db3-cdf4f74d33d4",
   "metadata": {},
   "source": [
    "**Prompt**\n",
    "\n",
    "Write roll() -> int to simulate a fair die, then simulate 100,000 rolls to estimate the probability that the sum of two dice equals 7. Compare empirical result to exact probability. Comment on random seeding and reproducibility."
   ]
  },
  {
   "cell_type": "code",
   "execution_count": 36,
   "id": "8afe9457-399c-40a3-952c-06eaab98e339",
   "metadata": {},
   "outputs": [
    {
     "name": "stdout",
     "output_type": "stream",
     "text": [
      "Probability of sum=7: 0.16603\n"
     ]
    }
   ],
   "source": [
    "#Chatgpt Code\n",
    "\n",
    "import random\n",
    "\n",
    "def roll():\n",
    "    return random.randint(1, 6)\n",
    "\n",
    "count_seven = 0\n",
    "for _ in range(100000):\n",
    "    if roll() + roll() == 7:\n",
    "        count_seven += 1\n",
    "\n",
    "print(f\"Probability of sum=7: {count_seven/100000}\")\n"
   ]
  },
  {
   "cell_type": "markdown",
   "id": "ca22aefc-ca0e-441d-80c7-875cea6d4ac3",
   "metadata": {},
   "source": [
    "**Critique**\n",
    "\n",
    "Correctness: Works correctly for simulating dice rolls.\n",
    "\n",
    "Complexity: O(n), simple loop.\n",
    "\n",
    "Robustness: No input handling needed.\n",
    "\n",
    "Readability: Easy to read. Could separate function for simulation.\n",
    "\n",
    "Faithfulness: Uses random.randint() as discussed in lectures."
   ]
  },
  {
   "cell_type": "code",
   "execution_count": 38,
   "id": "1f581901-3ced-4dc8-9cca-e736750e02c3",
   "metadata": {},
   "outputs": [
    {
     "name": "stdout",
     "output_type": "stream",
     "text": [
      "Estimated P(sum=7) ≈ 0.1646\n",
      "Exact P(sum=7) = 0.1667\n"
     ]
    }
   ],
   "source": [
    "# Improved Code\n",
    "\n",
    "import random\n",
    "\n",
    "def roll() -> int:\n",
    "    # roll a die\n",
    "    return random.randint(1, 6)\n",
    "\n",
    "def simulate_rolls(n=100000):\n",
    "    count = 0\n",
    "    for _ in range(n):\n",
    "        if roll() + roll() == 7:\n",
    "            count += 1\n",
    "    print(f\"Estimated P(sum=7) ≈ {count/n:.4f}\")\n",
    "    print(\"Exact P(sum=7) = 0.1667\")\n",
    "\n",
    "random.seed(42)  # reproducible\n",
    "simulate_rolls()\n"
   ]
  },
  {
   "cell_type": "markdown",
   "id": "24a784c0-cb75-40f0-90d9-a2ec782568d6",
   "metadata": {},
   "source": [
    "**Q7. Vehicles with Odometer and Fuel**\n",
    "\n",
    "Design classes Vehicle (base),\n",
    "Car and Truck (children). Each has color, mileage, and fuel_liters. Provide\n",
    "drive(km, km_per_liter) which increments mileage and decreases fuel (never below 0) and refuel(liters). Show how inheritance avoids duplication and add\n",
    "a method override in Truck (e.g., different efficiency). Include a minimal test\n",
    "script. Anchor concepts: classes vs. instances, attributes, instance methods, inheritance/override. Reference: :contentReference[oaicite:13]index=13"
   ]
  },
  {
   "cell_type": "markdown",
   "id": "4c837273-f572-4655-a676-be794322a91a",
   "metadata": {},
   "source": [
    "**Prompt**\n",
    "\n",
    "Design classes Vehicle (base), Car, and Truck. Each has color, mileage, and fuel_liters. Provide drive(km, km_per_liter) which increments mileage and decreases fuel (never below 0) and refuel(liters). Override method in Truck for efficiency."
   ]
  },
  {
   "cell_type": "code",
   "execution_count": 39,
   "id": "310ae49a-f651-4d77-bc7c-dba1b3eb93fa",
   "metadata": {},
   "outputs": [],
   "source": [
    "#Chatgpt Code\n",
    "\n",
    "class Vehicle:\n",
    "    def __init__(self, color, mileage=0, fuel_liters=0):\n",
    "        self.color = color\n",
    "        self.mileage = mileage\n",
    "        self.fuel_liters = fuel_liters\n",
    "    \n",
    "    def drive(self, km, km_per_liter):\n",
    "        needed_fuel = km / km_per_liter\n",
    "        if needed_fuel > self.fuel_liters:\n",
    "            km = self.fuel_liters * km_per_liter\n",
    "            self.fuel_liters = 0\n",
    "        else:\n",
    "            self.fuel_liters -= needed_fuel\n",
    "        self.mileage += km\n",
    "    \n",
    "    def refuel(self, liters):\n",
    "        self.fuel_liters += liters\n",
    "\n",
    "class Car(Vehicle):\n",
    "    pass\n",
    "\n",
    "class Truck(Vehicle):\n",
    "    def drive(self, km, km_per_liter):\n",
    "        adjusted_kmpl = km_per_liter * 0.9\n",
    "        super().drive(km, adjusted_kmpl)\n"
   ]
  },
  {
   "cell_type": "markdown",
   "id": "5a27bc38-6aae-469a-8ae1-2313c177dc49",
   "metadata": {},
   "source": [
    "**Critique**\n",
    "\n",
    "Correctness: Correct logic for drive and fuel. Truck override works.\n",
    "\n",
    "Complexity: O(1) for drive/refuel.\n",
    "\n",
    "Robustness: Handles zero fuel. No negative check for inputs.\n",
    "\n",
    "Readability: Clear and simple, could shorten variable names.\n",
    "\n",
    "Faithfulness: Uses classes, inheritance, and override per lectures."
   ]
  },
  {
   "cell_type": "code",
   "execution_count": 40,
   "id": "e345a975-81bd-4e46-bde6-93da3547c258",
   "metadata": {},
   "outputs": [
    {
     "name": "stdout",
     "output_type": "stream",
     "text": [
      "150 5.0\n",
      "290 10.0\n"
     ]
    }
   ],
   "source": [
    "#Improved Code\n",
    "\n",
    "class Vehicle:\n",
    "    def __init__(self, color, mileage=0, fuel=0):\n",
    "        self.color = color\n",
    "        self.mileage = mileage\n",
    "        self.fuel = fuel\n",
    "\n",
    "    def drive(self, km, km_per_liter):\n",
    "        used = km / km_per_liter\n",
    "        if used > self.fuel:\n",
    "            km = self.fuel * km_per_liter\n",
    "            self.fuel = 0\n",
    "        else:\n",
    "            self.fuel -= used\n",
    "        self.mileage += km\n",
    "\n",
    "    def refuel(self, liters):\n",
    "        self.fuel += liters\n",
    "\n",
    "class Car(Vehicle):\n",
    "    pass\n",
    "\n",
    "class Truck(Vehicle):\n",
    "    def drive(self, km, km_per_liter):\n",
    "        # truck uses more fuel\n",
    "        super().drive(km, km_per_liter * 0.9)\n",
    "\n",
    "# test\n",
    "c = Car(\"red\", 100, 10)\n",
    "c.drive(50, 10)\n",
    "print(c.mileage, c.fuel)\n",
    "\n",
    "t = Truck(\"blue\", 200, 20)\n",
    "t.drive(90, 10)\n",
    "print(t.mileage, t.fuel)\n"
   ]
  },
  {
   "cell_type": "markdown",
   "id": "c9c95a95-198f-4ca5-9208-a8d5f7088f88",
   "metadata": {},
   "source": [
    "**Q8. Kennel with Dogs**\n",
    "\n",
    "Using a Dog class (name, age, breed,\n",
    "bark()), implement a Kennel manager that holds multiple Dog instances, supports\n",
    "add_dog, remove_dog, oldest_dog(), and find_by_breed(breed). Compare composition vs. inheritance for this scenario. Anchor concepts: OOP design, managing\n",
    "collections of objects. Reference: :contentReference[oaicite:14]index=14\n"
   ]
  },
  {
   "cell_type": "markdown",
   "id": "23d1557a-c290-49bb-a848-8f1c46360c4b",
   "metadata": {},
   "source": [
    "**Prompt**\n",
    "\n",
    "Implement Dog class and a Kennel manager holding multiple dogs. Support add_dog, remove_dog, oldest_dog(), and find_by_breed(breed). Compare composition vs inheritance."
   ]
  },
  {
   "cell_type": "code",
   "execution_count": 42,
   "id": "b7dddd75-20d6-4d57-9d12-69aff104cdce",
   "metadata": {},
   "outputs": [],
   "source": [
    "#Chatgpt Code\n",
    "\n",
    "class Dog:\n",
    "    def __init__(self, name, age, breed):\n",
    "        self.name = name\n",
    "        self.age = age\n",
    "        self.breed = breed\n",
    "\n",
    "    def bark(self):\n",
    "        print(f\"{self.name} says: Woof!\")\n",
    "\n",
    "class Kennel:\n",
    "    def __init__(self):\n",
    "        self.dogs = []\n",
    "\n",
    "    def add_dog(self, dog):\n",
    "        self.dogs.append(dog)\n",
    "\n",
    "    def remove_dog(self, dog_name):\n",
    "        self.dogs = [d for d in self.dogs if d.name != dog_name]\n",
    "\n",
    "    def oldest_dog(self):\n",
    "        if not self.dogs:\n",
    "            return None\n",
    "        return max(self.dogs, key=lambda d: d.age)\n",
    "\n",
    "    def find_by_breed(self, breed):\n",
    "        return [d for d in self.dogs if d.breed == breed]\n"
   ]
  },
  {
   "cell_type": "markdown",
   "id": "595e72d7-f13a-4645-b036-91ef8e488a13",
   "metadata": {},
   "source": [
    "**Critique**\n",
    "  \n",
    "Correctness: Works correctly, all methods functional.\n",
    "\n",
    "Complexity: O(n) for remove and find_by_breed.\n",
    "\n",
    "Robustness: Handles empty kennel.\n",
    "\n",
    "Readability: Clear variable names and short methods.\n",
    "\n",
    "Faithfulness: Uses composition correctly (Kennel has Dogs)."
   ]
  },
  {
   "cell_type": "code",
   "execution_count": 44,
   "id": "4773ff69-6aae-4775-b6a4-adfd5bee99e3",
   "metadata": {},
   "outputs": [
    {
     "name": "stdout",
     "output_type": "stream",
     "text": [
      "Rex\n",
      "['Rex']\n"
     ]
    }
   ],
   "source": [
    "#Improved Code\n",
    "\n",
    "class Dog:\n",
    "    def __init__(self, name, age, breed):\n",
    "        self.name = name\n",
    "        self.age = age\n",
    "        self.breed = breed\n",
    "\n",
    "    def bark(self):\n",
    "        print(f\"{self.name} says: Woof!\")\n",
    "\n",
    "class Kennel:\n",
    "    def __init__(self):\n",
    "        self.dogs = []\n",
    "\n",
    "    def add_dog(self, dog):\n",
    "        self.dogs.append(dog)\n",
    "\n",
    "    def remove_dog(self, name):\n",
    "        self.dogs = [d for d in self.dogs if d.name != name]\n",
    "\n",
    "    def oldest_dog(self):\n",
    "        if not self.dogs:\n",
    "            return None\n",
    "        return max(self.dogs, key=lambda d: d.age)\n",
    "\n",
    "    def find_by_breed(self, breed):\n",
    "        return [d for d in self.dogs if d.breed == breed]\n",
    "\n",
    "# test\n",
    "k = Kennel()\n",
    "k.add_dog(Dog(\"Fido\", 5, \"Labrador\"))\n",
    "k.add_dog(Dog(\"Rex\", 7, \"Beagle\"))\n",
    "print(k.oldest_dog().name)\n",
    "print([d.name for d in k.find_by_breed(\"Beagle\")])\n"
   ]
  },
  {
   "cell_type": "markdown",
   "id": "3d3c8051-0bd7-47aa-9179-cc1066ff1a2e",
   "metadata": {},
   "source": [
    "**Q10. Robust Temperature Converter (Functions + Exceptions).**\n",
    "\n",
    "\n",
    "Write two functions: cel_to_far(c) and far_to_cel(f) with type hints and docstrings. Build a\n",
    "CLI that asks the user which direction to convert and validates input (gracefully\n",
    "handles bad entries). Include unit tests (doctest or simple asserts) covering typical\n",
    "3\n",
    "and edge cases (e.g., -40). Anchor concepts: writing functions, control flow, input\n",
    "handling, testing.\n"
   ]
  },
  {
   "cell_type": "markdown",
   "id": "a3712c3b-08a7-4f29-bf5c-352694102ec2",
   "metadata": {},
   "source": [
    "**Prompt**\n",
    "\n",
    "Write two Python functions cel_to_far(c) and far_to_cel(f) with type hints and docstrings.\n",
    "Then make a small CLI that asks the user for the direction of conversion (“C” or “F”) and temperature value, handles invalid input gracefully using try/except, and prints the converted value. Include tests for typical and edge cases."
   ]
  },
  {
   "cell_type": "code",
   "execution_count": 5,
   "id": "e570f444-2d63-4107-b445-30751af1846b",
   "metadata": {},
   "outputs": [
    {
     "name": "stdin",
     "output_type": "stream",
     "text": [
      "Convert from (C/F):  f\n",
      "Enter temperature:  100\n"
     ]
    },
    {
     "name": "stdout",
     "output_type": "stream",
     "text": [
      "100.0°F = 37.78°C\n"
     ]
    }
   ],
   "source": [
    "#Chatgpt Code\n",
    "\n",
    "def cel_to_far(c):\n",
    "    return (c * 9/5) + 32\n",
    "\n",
    "def far_to_cel(f):\n",
    "    return (f - 32) * 5/9\n",
    "\n",
    "def main():\n",
    "    try:\n",
    "        choice = input(\"Convert from (C/F): \").strip().upper()\n",
    "        temp = float(input(\"Enter temperature: \"))\n",
    "        if choice == \"C\":\n",
    "            print(f\"{temp}°C = {cel_to_far(temp):.2f}°F\")\n",
    "        elif choice == \"F\":\n",
    "            print(f\"{temp}°F = {far_to_cel(temp):.2f}°C\")\n",
    "        else:\n",
    "            \n",
    "            print(\"Invalid choice\")\n",
    "    except ValueError:\n",
    "        print(\"Please enter a valid number.\")\n",
    "\n",
    "if __name__ == \"__main__\":\n",
    "    main()\n"
   ]
  },
  {
   "cell_type": "markdown",
   "id": "09117ff6-c89c-46e1-b2eb-7d4cfb39d962",
   "metadata": {},
   "source": [
    "**Critique**\n",
    "\n",
    "Correctness:  Works correctly for valid numeric input.\n",
    "\n",
    "Complexity: O(1). Simple arithmetic operations.\n",
    "\n",
    "Robustness: Handles invalid numeric inputs, but doesn’t re-prompt or handle extreme cases gracefully.\n",
    "\n",
    "Readability/Style: Lacks docstrings and type hints.\n",
    "\n",
    "Faithfulness: Matches lecture material on functions and try/except"
   ]
  },
  {
   "cell_type": "code",
   "execution_count": 6,
   "id": "1bd01292-94c6-440e-9cf1-bb077313fdc2",
   "metadata": {},
   "outputs": [
    {
     "name": "stdout",
     "output_type": "stream",
     "text": [
      "All tests passed.\n",
      "\n",
      "Temperature Converter Program\n",
      "Enter 'C' if you want to convert from Celsius to Fahrenheit.\n",
      "Enter 'F' if you want to convert from Fahrenheit to Celsius.\n",
      "\n"
     ]
    },
    {
     "name": "stdin",
     "output_type": "stream",
     "text": [
      "Choose conversion type (C/F):  f\n",
      "Enter the temperature value:  100\n"
     ]
    },
    {
     "name": "stdout",
     "output_type": "stream",
     "text": [
      "100.00°F is equal to 37.78°C\n",
      "Program finished.\n"
     ]
    }
   ],
   "source": [
    "# Improved Code\n",
    "\n",
    "def cel_to_far(c: float) -> float:\n",
    "    \"\"\"Convert Celsius to Fahrenheit.\"\"\"\n",
    "    return (c * 9 / 5) + 32\n",
    "\n",
    "\n",
    "def far_to_cel(f: float) -> float:\n",
    "    \"\"\"Convert Fahrenheit to Celsius.\"\"\"\n",
    "    return (f - 32) * 5 / 9\n",
    "\n",
    "\n",
    "def main():\n",
    "    print(\"Temperature Converter Program\")\n",
    "    print(\"Enter 'C' if you want to convert from Celsius to Fahrenheit.\")\n",
    "    print(\"Enter 'F' if you want to convert from Fahrenheit to Celsius.\")\n",
    "    print()\n",
    "\n",
    "    try:\n",
    "        choice = input(\"Choose conversion type (C/F): \").strip().upper()\n",
    "        if choice not in [\"C\", \"F\"]:\n",
    "            print(\"Invalid choice. Please enter either C or F only.\")\n",
    "            return\n",
    "\n",
    "        temp_input = input(\"Enter the temperature value: \").strip()\n",
    "        temperature = float(temp_input)\n",
    "\n",
    "        if choice == \"C\":\n",
    "            converted = cel_to_far(temperature)\n",
    "            print(f\"{temperature:.2f}°C is equal to {converted:.2f}°F\")\n",
    "        else:\n",
    "            converted = far_to_cel(temperature)\n",
    "            print(f\"{temperature:.2f}°F is equal to {converted:.2f}°C\")\n",
    "\n",
    "    except ValueError:\n",
    "        print(\"Invalid input. Please enter a valid number.\")\n",
    "    finally:\n",
    "        print(\"Program finished.\")\n",
    "\n",
    "\n",
    "# simple test cases\n",
    "if __name__ == \"__main__\":\n",
    "    # unit tests\n",
    "    assert cel_to_far(0) == 32\n",
    "    assert round(far_to_cel(32), 2) == 0.00\n",
    "    assert cel_to_far(-40) == -40\n",
    "    assert far_to_cel(-40) == -40\n",
    "    print(\"All tests passed.\\n\")\n",
    "    main()\n"
   ]
  }
 ],
 "metadata": {
  "kernelspec": {
   "display_name": "Python 3 (ipykernel)",
   "language": "python",
   "name": "python3"
  },
  "language_info": {
   "codemirror_mode": {
    "name": "ipython",
    "version": 3
   },
   "file_extension": ".py",
   "mimetype": "text/x-python",
   "name": "python",
   "nbconvert_exporter": "python",
   "pygments_lexer": "ipython3",
   "version": "3.13.5"
  }
 },
 "nbformat": 4,
 "nbformat_minor": 5
}
