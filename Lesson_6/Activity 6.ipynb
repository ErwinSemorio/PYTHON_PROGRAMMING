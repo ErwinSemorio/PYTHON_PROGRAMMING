{
 "cells": [
  {
   "cell_type": "markdown",
   "id": "ea14743e-9b56-4ae0-8f2e-42672bd8f350",
   "metadata": {},
   "source": [
    "# REVIEW EXCERCISE #1"
   ]
  },
  {
   "cell_type": "code",
   "execution_count": 2,
   "id": "73f68474-cf56-4afe-9509-8ddae78ac6da",
   "metadata": {},
   "outputs": [
    {
     "name": "stdout",
     "output_type": "stream",
     "text": [
      "Philo's coat is brown.\n"
     ]
    }
   ],
   "source": [
    "# 1\n",
    "\n",
    "class Dog:\n",
    "    def __init__(self, name, age, coat_color):\n",
    "        self.name = name\n",
    "        self.age = age\n",
    "        self.coat_color = coat_color\n",
    "\n",
    "\n",
    "# Test code\n",
    "philo = Dog(\"Philo\", 5, \"brown\")\n",
    "print(f\"{philo.name}'s coat is {philo.coat_color}.\")\n"
   ]
  },
  {
   "cell_type": "code",
   "execution_count": 4,
   "id": "4a975acb-bf6a-4876-b430-5622cca07564",
   "metadata": {},
   "outputs": [
    {
     "name": "stdout",
     "output_type": "stream",
     "text": [
      "The blue car has 20,000 miles.\n",
      "The red car has 30,000 miles.\n"
     ]
    }
   ],
   "source": [
    "# 2\n",
    "\n",
    "# Car class definition\n",
    "class Car:\n",
    "    def __init__(self, color, mileage):\n",
    "        self.color = color\n",
    "        self.mileage = mileage\n",
    "\n",
    "\n",
    "# Test code\n",
    "blue_car = Car(\"blue\", 20000)\n",
    "red_car = Car(\"red\", 30000)\n",
    "\n",
    "print(f\"The {blue_car.color} car has {blue_car.mileage:,} miles.\")\n",
    "print(f\"The {red_car.color} car has {red_car.mileage:,} miles.\")\n"
   ]
  },
  {
   "cell_type": "code",
   "execution_count": 5,
   "id": "dc3d4d0c-c200-49e7-aa51-58db514fb783",
   "metadata": {},
   "outputs": [
    {
     "name": "stdout",
     "output_type": "stream",
     "text": [
      "100\n"
     ]
    }
   ],
   "source": [
    "# 3\n",
    "\n",
    "# Car class definition with drive() method\n",
    "class Car:\n",
    "    def __init__(self, color, mileage):\n",
    "        self.color = color\n",
    "        self.mileage = mileage\n",
    "\n",
    "    def drive(self, miles):\n",
    "        self.mileage += miles\n",
    "\n",
    "\n",
    "# Test code\n",
    "my_car = Car(\"black\", 0)\n",
    "my_car.drive(100)          \n",
    "print(my_car.mileage)      "
   ]
  },
  {
   "cell_type": "markdown",
   "id": "50fa3e3d-4f1d-4f37-923d-f8bf2f10e5ba",
   "metadata": {},
   "source": [
    "# Review Excercise #2"
   ]
  },
  {
   "cell_type": "code",
   "execution_count": 6,
   "id": "47540846-9155-4283-b0f1-0e4e5ec8060e",
   "metadata": {},
   "outputs": [
    {
     "name": "stdout",
     "output_type": "stream",
     "text": [
      "Buddy is 3 years old\n",
      "Buddy says Bark\n",
      "Buddy says Woof\n"
     ]
    }
   ],
   "source": [
    "# 1\n",
    "\n",
    "class Dog:\n",
    "    species = \"Canis familiaris\"\n",
    "\n",
    "    def __init__(self, name, age):\n",
    "        self.name = name\n",
    "        self.age = age\n",
    "\n",
    "    def __str__(self):\n",
    "        return f\"{self.name} is {self.age} years old\"\n",
    "\n",
    "    def speak(self, sound):\n",
    "        return f\"{self.name} says {sound}\"\n",
    "\n",
    "\n",
    "class GoldenRetriever(Dog):\n",
    "    def speak(self, sound=\"Bark\"): \n",
    "        return super().speak(sound)\n",
    "\n",
    "\n",
    "# Test\n",
    "gr = GoldenRetriever(\"Buddy\", 3)\n",
    "print(gr)\n",
    "print(gr.speak())        \n",
    "print(gr.speak(\"Woof\"))  \n"
   ]
  },
  {
   "cell_type": "code",
   "execution_count": 8,
   "id": "c1dadfdb-3b7a-4703-9323-668a6c26e7e7",
   "metadata": {},
   "outputs": [
    {
     "name": "stdout",
     "output_type": "stream",
     "text": [
      "16\n"
     ]
    }
   ],
   "source": [
    "# 2 \n",
    "\n",
    "class Rectangle:\n",
    "    def __init__(self, length, width):\n",
    "        self.length = length\n",
    "        self.width = width\n",
    "\n",
    "    def area(self):\n",
    "        return self.length * self.width\n",
    "\n",
    "\n",
    "# Child class: Square\n",
    "class Square(Rectangle):\n",
    "    def __init__(self, side_length):\n",
    "        super().__init__(side_length, side_length)\n",
    "\n",
    "\n",
    "# Test\n",
    "sq = Square(4)\n",
    "print(sq.area())\n"
   ]
  },
  {
   "cell_type": "markdown",
   "id": "96092eb1-cf5d-487c-b6cf-31d08bd54990",
   "metadata": {},
   "source": [
    "# Challenge: Model A Farm\n"
   ]
  },
  {
   "cell_type": "code",
   "execution_count": 9,
   "id": "b5950960-389a-4f40-ae7a-2e188dc1c7cd",
   "metadata": {},
   "outputs": [
    {
     "name": "stdout",
     "output_type": "stream",
     "text": [
      "Bessie is eating.\n",
      "Bessie produces 12 liters of milk per day.\n",
      "\n",
      "Clucky is eating.\n",
      "Clucky lays 20 eggs per week.\n",
      "\n",
      "Wooly is sleeping.\n",
      "Wooly provides 6 kg of wool per year.\n"
     ]
    }
   ],
   "source": [
    "# Parent class\n",
    "class Animal:\n",
    "    def __init__(self, name, age):\n",
    "        self.name = name\n",
    "        self.age = age\n",
    "    \n",
    "    def eat(self):\n",
    "        return f\"{self.name} is eating.\"\n",
    "    \n",
    "    def sleep(self):\n",
    "        return f\"{self.name} is sleeping.\"\n",
    "\n",
    "\n",
    "# Child class 1: Cow\n",
    "class Cow(Animal):\n",
    "    def __init__(self, name, age, milk_production):\n",
    "        super().__init__(name, age)\n",
    "        self.milk_production = milk_production  # liters per day\n",
    "    \n",
    "    def produce_milk(self):\n",
    "        return f\"{self.name} produces {self.milk_production} liters of milk per day.\"\n",
    "\n",
    "\n",
    "# Child class 2: Chicken\n",
    "class Chicken(Animal):\n",
    "    def __init__(self, name, age, eggs_per_week):\n",
    "        super().__init__(name, age)\n",
    "        self.eggs_per_week = eggs_per_week\n",
    "    \n",
    "    def lay_eggs(self):\n",
    "        return f\"{self.name} lays {self.eggs_per_week} eggs per week.\"\n",
    "\n",
    "\n",
    "# Child class 3: Sheep\n",
    "class Sheep(Animal):\n",
    "    def __init__(self, name, age, wool_weight):\n",
    "        super().__init__(name, age)\n",
    "        self.wool_weight = wool_weight  # kg per year\n",
    "    \n",
    "    def shear_wool(self):\n",
    "        return f\"{self.name} provides {self.wool_weight} kg of wool per year.\"\n",
    "\n",
    "\n",
    "# ---------- TESTING THE FARM ----------\n",
    "cow = Cow(\"Bessie\", 5, 12)\n",
    "chicken = Chicken(\"Clucky\", 2, 20)\n",
    "sheep = Sheep(\"Wooly\", 3, 6)\n",
    "\n",
    "print(cow.eat())\n",
    "print(cow.produce_milk())\n",
    "print()\n",
    "\n",
    "print(chicken.eat())\n",
    "print(chicken.lay_eggs())\n",
    "print()\n",
    "\n",
    "print(sheep.sleep())\n",
    "print(sheep.shear_wool())\n"
   ]
  },
  {
   "cell_type": "code",
   "execution_count": null,
   "id": "723ad71b-28e2-4b0e-bda4-11da8b9f4ad7",
   "metadata": {},
   "outputs": [],
   "source": []
  }
 ],
 "metadata": {
  "kernelspec": {
   "display_name": "Python 3 (ipykernel)",
   "language": "python",
   "name": "python3"
  },
  "language_info": {
   "codemirror_mode": {
    "name": "ipython",
    "version": 3
   },
   "file_extension": ".py",
   "mimetype": "text/x-python",
   "name": "python",
   "nbconvert_exporter": "python",
   "pygments_lexer": "ipython3",
   "version": "3.13.5"
  }
 },
 "nbformat": 4,
 "nbformat_minor": 5
}
