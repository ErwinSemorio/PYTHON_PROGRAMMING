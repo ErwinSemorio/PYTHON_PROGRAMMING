{
 "cells": [
  {
   "cell_type": "markdown",
   "id": "0522a836-94f4-413d-b8c3-9651a1c10a8c",
   "metadata": {},
   "source": [
    "# 1st Long Exam 9/10/2025"
   ]
  },
  {
   "cell_type": "markdown",
   "id": "fc8f9551-166b-4564-8c27-3fe72e0dc9c3",
   "metadata": {},
   "source": [
    "# Erwin Semorio ID : 21522172\n"
   ]
  },
  {
   "cell_type": "code",
   "execution_count": 1,
   "id": "cd36b465-17e1-4ddc-b037-fe912468d965",
   "metadata": {},
   "outputs": [
    {
     "name": "stdin",
     "output_type": "stream",
     "text": [
      "Enter name  Erwin\n"
     ]
    },
    {
     "name": "stdout",
     "output_type": "stream",
     "text": [
      "Hello Erwin\n"
     ]
    }
   ],
   "source": [
    "prompt = input (\"Enter name \")\n",
    "print (\"Hello \" + prompt )"
   ]
  },
  {
   "cell_type": "code",
   "execution_count": null,
   "id": "e8d813b1-35bb-4bae-ae92-6c77d3797806",
   "metadata": {},
   "outputs": [],
   "source": [
    "n = int ( input (\"Enter number \"))\n",
    "n = n (n + 1)/2\n",
    "print (f\" The sum is : {r}\")"
   ]
  },
  {
   "cell_type": "code",
   "execution_count": 8,
   "id": "966dcbb0-8cd6-4911-bd0b-5f1c3a2a4fe2",
   "metadata": {},
   "outputs": [
    {
     "ename": "IndentationError",
     "evalue": "unexpected indent (2717250705.py, line 2)",
     "output_type": "error",
     "traceback": [
      "\u001b[1;36m  Cell \u001b[1;32mIn[8], line 2\u001b[1;36m\u001b[0m\n\u001b[1;33m    if len.char = i and char.isalpha();\u001b[0m\n\u001b[1;37m    ^\u001b[0m\n\u001b[1;31mIndentationError\u001b[0m\u001b[1;31m:\u001b[0m unexpected indent\n"
     ]
    }
   ],
   "source": [
    "char = input (\"Enter single alphabet: \").lower()\n",
    "    if len.char = i and char.isalpha();\n",
    "    if char in [a, e, i, o, u]:\n",
    "        print(f\"{char} is a vowel. \")\n",
    "else : \n",
    "        print(f\"{char} is a consonant. \")\n",
    "else : \n",
    "        print(\" Invalid input please enter a single allphabet letter\")"
   ]
  },
  {
   "cell_type": "code",
   "execution_count": 13,
   "id": "14855e14-831d-44c4-8afb-20b787de91ad",
   "metadata": {},
   "outputs": [
    {
     "ename": "IndentationError",
     "evalue": "unexpected indent (4171797979.py, line 3)",
     "output_type": "error",
     "traceback": [
      "\u001b[1;36m  Cell \u001b[1;32mIn[13], line 3\u001b[1;36m\u001b[0m\n\u001b[1;33m    if num_str == num_str[::-1];\u001b[0m\n\u001b[1;37m    ^\u001b[0m\n\u001b[1;31mIndentationError\u001b[0m\u001b[1;31m:\u001b[0m unexpected indent\n"
     ]
    }
   ],
   "source": [
    "num = int(input(\"Enter positive integer: \"))\n",
    "num_str = str(num)\n",
    "    if num_str == num_str[::-1];\n",
    "        print (f\"{num} is a palindrone! \")\n",
    "else:\n",
    "        print(f\"{num} is not a palindrone. \")"
   ]
  },
  {
   "cell_type": "code",
   "execution_count": 16,
   "id": "5e07aca1-73f9-43ae-9c78-92a45b8aa8db",
   "metadata": {},
   "outputs": [
    {
     "name": "stdin",
     "output_type": "stream",
     "text": [
      "Enter a length for A in the right triangle  12\n",
      "Enter a length for B in the right triangle  123\n"
     ]
    },
    {
     "ename": "TypeError",
     "evalue": "unsupported operand type(s) for ** or pow(): 'str' and 'int'",
     "output_type": "error",
     "traceback": [
      "\u001b[1;31m---------------------------------------------------------------------------\u001b[0m",
      "\u001b[1;31mTypeError\u001b[0m                                 Traceback (most recent call last)",
      "Cell \u001b[1;32mIn[16], line 3\u001b[0m\n\u001b[0;32m      1\u001b[0m A \u001b[38;5;241m=\u001b[39m \u001b[38;5;28minput\u001b[39m (\u001b[38;5;124m\"\u001b[39m\u001b[38;5;124mEnter a length for A in the right triangle \u001b[39m\u001b[38;5;124m\"\u001b[39m)\n\u001b[0;32m      2\u001b[0m B \u001b[38;5;241m=\u001b[39m \u001b[38;5;28minput\u001b[39m (\u001b[38;5;124m\"\u001b[39m\u001b[38;5;124mEnter a length for B in the right triangle \u001b[39m\u001b[38;5;124m\"\u001b[39m)\n\u001b[1;32m----> 3\u001b[0m h \u001b[38;5;241m=\u001b[39m ((A \u001b[38;5;241m*\u001b[39m\u001b[38;5;241m*\u001b[39m \u001b[38;5;241m2\u001b[39m)) (( B \u001b[38;5;241m*\u001b[39m\u001b[38;5;241m*\u001b[39m \u001b[38;5;241m2\u001b[39m )) \u001b[38;5;241m*\u001b[39m\u001b[38;5;241m*\u001b[39m \u001b[38;5;241m0.5\u001b[39m\n\u001b[0;32m      4\u001b[0m \u001b[38;5;28mprint\u001b[39m (\u001b[38;5;124m\"\u001b[39m\u001b[38;5;124m The hypotenuse is : \u001b[39m\u001b[38;5;124m\"\u001b[39m)\n",
      "\u001b[1;31mTypeError\u001b[0m: unsupported operand type(s) for ** or pow(): 'str' and 'int'"
     ]
    }
   ],
   "source": [
    "A = input (\"Enter a length for A in the right triangle \")\n",
    "B = input (\"Enter a length for B in the right triangle \")\n",
    "h = ((A ** 2)) (( B ** 2 )) ** 0.5\n",
    "print (\" The hypotenuse is : \")\n"
   ]
  },
  {
   "cell_type": "code",
   "execution_count": null,
   "id": "7479c476-ef59-4c0b-95e2-a6c7abe60e88",
   "metadata": {},
   "outputs": [],
   "source": []
  }
 ],
 "metadata": {
  "kernelspec": {
   "display_name": "Python 3 (ipykernel)",
   "language": "python",
   "name": "python3"
  },
  "language_info": {
   "codemirror_mode": {
    "name": "ipython",
    "version": 3
   },
   "file_extension": ".py",
   "mimetype": "text/x-python",
   "name": "python",
   "nbconvert_exporter": "python",
   "pygments_lexer": "ipython3",
   "version": "3.13.5"
  }
 },
 "nbformat": 4,
 "nbformat_minor": 5
}
