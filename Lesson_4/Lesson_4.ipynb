{
 "cells": [
  {
   "cell_type": "markdown",
   "id": "ff7fdb95-6e08-4ae0-a3f7-fb638fae618c",
   "metadata": {},
   "source": [
    "# Review Question #1\n"
   ]
  },
  {
   "cell_type": "code",
   "execution_count": 7,
   "id": "8a9580d0-4d14-4848-b142-c6c5f8c2c862",
   "metadata": {},
   "outputs": [
    {
     "name": "stdout",
     "output_type": "stream",
     "text": [
      "True\n",
      "False\n",
      "True\n",
      "True\n",
      "True\n",
      "False\n"
     ]
    }
   ],
   "source": [
    "print (1 <=1 )\n",
    "print (1 != 1)\n",
    "print (1 != 2)\n",
    "print (\"good\" != \"bad\")\n",
    "print (\"good\" != \"Good\")\n",
    "print (123 == \"123\")"
   ]
  },
  {
   "cell_type": "code",
   "execution_count": 18,
   "id": "9ce32fca-f406-478f-baec-a99ce306de8f",
   "metadata": {},
   "outputs": [
    {
     "name": "stdout",
     "output_type": "stream",
     "text": [
      "True\n",
      "True\n",
      "True\n",
      "True\n"
     ]
    }
   ],
   "source": [
    "print (3 < 4)\n",
    "print (10 > 5)\n",
    "print (\"jack\" != \"jill\" )\n",
    "print ( 42 != \"42\" )"
   ]
  },
  {
   "cell_type": "markdown",
   "id": "9bbedfb5-356f-49ac-98be-2b81f6ef2310",
   "metadata": {},
   "source": [
    "# Review Question 2"
   ]
  },
  {
   "cell_type": "code",
   "execution_count": 22,
   "id": "a7dc70b1-70b1-43e2-b0e4-911967519566",
   "metadata": {},
   "outputs": [
    {
     "name": "stdout",
     "output_type": "stream",
     "text": [
      "True\n",
      "True\n",
      "True\n",
      "True\n"
     ]
    }
   ],
   "source": [
    "print ( 1 <= 1 ) and (1 != 1)\n",
    "print (1 != 2 )\n",
    "print (\"good\" != \"bad\") or False\n",
    "print (\"good\" != \"Good\") and not (1 == 1)\n"
   ]
  },
  {
   "cell_type": "code",
   "execution_count": 36,
   "id": "f23b1991-5d90-4657-a0b9-95f79640f0e7",
   "metadata": {},
   "outputs": [
    {
     "name": "stdout",
     "output_type": "stream",
     "text": [
      "True\n",
      "True\n",
      "True\n"
     ]
    }
   ],
   "source": [
    "print (not False == True)\n",
    "print ((True and False) == (True and False))\n",
    "print (True or \"A\" == \"B\")"
   ]
  },
  {
   "cell_type": "markdown",
   "id": "4eb6f421-deb4-4143-a432-459c1973528c",
   "metadata": {},
   "source": [
    "# Review Question 3"
   ]
  },
  {
   "cell_type": "code",
   "execution_count": 37,
   "id": "a6e6570d-f835-4438-b392-a6c36e4bd72d",
   "metadata": {},
   "outputs": [
    {
     "name": "stdin",
     "output_type": "stream",
     "text": [
      "Enter a word:  word\n"
     ]
    },
    {
     "name": "stdout",
     "output_type": "stream",
     "text": [
      "The word is less than 5 characters long.\n"
     ]
    }
   ],
   "source": [
    "# Prompt the user to enter a word\n",
    "user_input = input(\"Enter a word: \")\n",
    "\n",
    "# Check the length of the input and display the appropriate message\n",
    "if len(user_input) < 5:\n",
    "    print(\"The word is less than 5 characters long.\")\n",
    "elif len(user_input) > 5:\n",
    "    print(\"The word is greater than 5 characters long.\")\n",
    "else:\n",
    "    print(\"The word is exactly 5 characters long.\")\n"
   ]
  },
  {
   "cell_type": "markdown",
   "id": "b6c4844a-b633-4217-9253-dc5b8f85309b",
   "metadata": {},
   "source": [
    "# Review Question #4\n"
   ]
  },
  {
   "cell_type": "code",
   "execution_count": 41,
   "id": "a0963c42-3727-4b17-a4ad-0a43b3c6cf51",
   "metadata": {},
   "outputs": [
    {
     "name": "stdin",
     "output_type": "stream",
     "text": [
      "Enter some input (type 'Q' or 'q' to quit):  q\n"
     ]
    },
    {
     "name": "stdout",
     "output_type": "stream",
     "text": [
      "Quitting the program.\n"
     ]
    }
   ],
   "source": [
    "\n",
    "while True:  \n",
    "    user_input = input(\"Enter some input (type 'Q' or 'q' to quit): \") \n",
    "    if user_input.lower() == 'q': \n",
    "        print(\"Quitting the program.\")\n",
    "        break\n",
    "    else:\n",
    "        print(f\"You entered: {user_input}\")\n"
   ]
  },
  {
   "cell_type": "code",
   "execution_count": 39,
   "id": "0117dcd1-dbee-4862-b43a-44df4719d1e6",
   "metadata": {},
   "outputs": [
    {
     "name": "stdout",
     "output_type": "stream",
     "text": [
      "1\n",
      "2\n",
      "4\n",
      "5\n",
      "7\n",
      "8\n",
      "10\n",
      "11\n",
      "13\n",
      "14\n",
      "16\n",
      "17\n",
      "19\n",
      "20\n",
      "22\n",
      "23\n",
      "25\n",
      "26\n",
      "28\n",
      "29\n",
      "31\n",
      "32\n",
      "34\n",
      "35\n",
      "37\n",
      "38\n",
      "40\n",
      "41\n",
      "43\n",
      "44\n",
      "46\n",
      "47\n",
      "49\n",
      "50\n"
     ]
    }
   ],
   "source": [
    "\n",
    "for number in range(1, 51):  # Loop over numbers from 1 to 50\n",
    "    if number % 3 == 0:  # If the number is a multiple of 3\n",
    "        continue  # Skip the rest of the loop and continue with the next number\n",
    "    print(number)  # Print the number if it's not a multiple of 3\n"
   ]
  },
  {
   "cell_type": "code",
   "execution_count": null,
   "id": "f9157949-93ea-4f2c-9162-c7a4cacce915",
   "metadata": {},
   "outputs": [],
   "source": []
  }
 ],
 "metadata": {
  "kernelspec": {
   "display_name": "anaconda-ai-2024.04-py310",
   "language": "python",
   "name": "conda-env-anaconda-ai-2024.04-py310-py"
  },
  "language_info": {
   "codemirror_mode": {
    "name": "ipython",
    "version": 3
   },
   "file_extension": ".py",
   "mimetype": "text/x-python",
   "name": "python",
   "nbconvert_exporter": "python",
   "pygments_lexer": "ipython3",
   "version": "3.10.13"
  }
 },
 "nbformat": 4,
 "nbformat_minor": 5
}
