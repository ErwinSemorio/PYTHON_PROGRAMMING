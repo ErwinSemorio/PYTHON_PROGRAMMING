{
 "cells": [
  {
   "cell_type": "markdown",
   "id": "ff7fdb95-6e08-4ae0-a3f7-fb638fae618c",
   "metadata": {},
   "source": [
    "# Review Question #1\n"
   ]
  },
  {
   "cell_type": "code",
   "execution_count": 7,
   "id": "8a9580d0-4d14-4848-b142-c6c5f8c2c862",
   "metadata": {},
   "outputs": [
    {
     "name": "stdout",
     "output_type": "stream",
     "text": [
      "True\n",
      "False\n",
      "True\n",
      "True\n",
      "True\n",
      "False\n"
     ]
    }
   ],
   "source": [
    "print (1 <=1 )\n",
    "print (1 != 1)\n",
    "print (1 != 2)\n",
    "print (\"good\" != \"bad\")\n",
    "print (\"good\" != \"Good\")\n",
    "print (123 == \"123\")"
   ]
  },
  {
   "cell_type": "code",
   "execution_count": 18,
   "id": "9ce32fca-f406-478f-baec-a99ce306de8f",
   "metadata": {},
   "outputs": [
    {
     "name": "stdout",
     "output_type": "stream",
     "text": [
      "True\n",
      "True\n",
      "True\n",
      "True\n"
     ]
    }
   ],
   "source": [
    "print (3 < 4)\n",
    "print (10 > 5)\n",
    "print (\"jack\" != \"jill\" )\n",
    "print ( 42 != \"42\" )"
   ]
  },
  {
   "cell_type": "markdown",
   "id": "9bbedfb5-356f-49ac-98be-2b81f6ef2310",
   "metadata": {},
   "source": [
    "# Review Question 2"
   ]
  },
  {
   "cell_type": "code",
   "execution_count": 22,
   "id": "a7dc70b1-70b1-43e2-b0e4-911967519566",
   "metadata": {},
   "outputs": [
    {
     "name": "stdout",
     "output_type": "stream",
     "text": [
      "True\n",
      "True\n",
      "True\n",
      "True\n"
     ]
    }
   ],
   "source": [
    "print ( 1 <= 1 ) and (1 != 1)\n",
    "print (1 != 2 )\n",
    "print (\"good\" != \"bad\") or False\n",
    "print (\"good\" != \"Good\") and not (1 == 1)\n"
   ]
  },
  {
   "cell_type": "code",
   "execution_count": 36,
   "id": "f23b1991-5d90-4657-a0b9-95f79640f0e7",
   "metadata": {},
   "outputs": [
    {
     "name": "stdout",
     "output_type": "stream",
     "text": [
      "True\n",
      "True\n",
      "True\n"
     ]
    }
   ],
   "source": [
    "print (not False == True)\n",
    "print ((True and False) == (True and False))\n",
    "print (True or \"A\" == \"B\")"
   ]
  },
  {
   "cell_type": "markdown",
   "id": "4eb6f421-deb4-4143-a432-459c1973528c",
   "metadata": {},
   "source": [
    "# Review Question 3"
   ]
  },
  {
   "cell_type": "code",
   "execution_count": 37,
   "id": "a6e6570d-f835-4438-b392-a6c36e4bd72d",
   "metadata": {},
   "outputs": [
    {
     "name": "stdin",
     "output_type": "stream",
     "text": [
      "Enter a word:  word\n"
     ]
    },
    {
     "name": "stdout",
     "output_type": "stream",
     "text": [
      "The word is less than 5 characters long.\n"
     ]
    }
   ],
   "source": [
    "# Prompt the user to enter a word\n",
    "user_input = input(\"Enter a word: \")\n",
    "\n",
    "# Check the length of the input and display the appropriate message\n",
    "if len(user_input) < 5:\n",
    "    print(\"The word is less than 5 characters long.\")\n",
    "elif len(user_input) > 5:\n",
    "    print(\"The word is greater than 5 characters long.\")\n",
    "else:\n",
    "    print(\"The word is exactly 5 characters long.\")\n"
   ]
  },
  {
   "cell_type": "markdown",
   "id": "b6c4844a-b633-4217-9253-dc5b8f85309b",
   "metadata": {},
   "source": [
    "# Review Question #4\n"
   ]
  },
  {
   "cell_type": "code",
   "execution_count": 41,
   "id": "a0963c42-3727-4b17-a4ad-0a43b3c6cf51",
   "metadata": {},
   "outputs": [
    {
     "name": "stdin",
     "output_type": "stream",
     "text": [
      "Enter some input (type 'Q' or 'q' to quit):  q\n"
     ]
    },
    {
     "name": "stdout",
     "output_type": "stream",
     "text": [
      "Quitting the program.\n"
     ]
    }
   ],
   "source": [
    "\n",
    "while True:  \n",
    "    user_input = input(\"Enter some input (type 'Q' or 'q' to quit): \") \n",
    "    if user_input.lower() == 'q': \n",
    "        print(\"Quitting the program.\")\n",
    "        break\n",
    "    else:\n",
    "        print(f\"You entered: {user_input}\")\n"
   ]
  },
  {
   "cell_type": "code",
   "execution_count": 39,
   "id": "0117dcd1-dbee-4862-b43a-44df4719d1e6",
   "metadata": {},
   "outputs": [
    {
     "name": "stdout",
     "output_type": "stream",
     "text": [
      "1\n",
      "2\n",
      "4\n",
      "5\n",
      "7\n",
      "8\n",
      "10\n",
      "11\n",
      "13\n",
      "14\n",
      "16\n",
      "17\n",
      "19\n",
      "20\n",
      "22\n",
      "23\n",
      "25\n",
      "26\n",
      "28\n",
      "29\n",
      "31\n",
      "32\n",
      "34\n",
      "35\n",
      "37\n",
      "38\n",
      "40\n",
      "41\n",
      "43\n",
      "44\n",
      "46\n",
      "47\n",
      "49\n",
      "50\n"
     ]
    }
   ],
   "source": [
    "\n",
    "for number in range(1, 51):  # Loop over numbers from 1 to 50\n",
    "    if number % 3 == 0:  # If the number is a multiple of 3\n",
    "        continue  # Skip the rest of the loop and continue with the next number\n",
    "    print(number)  # Print the number if it's not a multiple of 3\n"
   ]
  },
  {
   "cell_type": "markdown",
   "id": "5bdbdb74-403d-411e-89d8-d95cefb20976",
   "metadata": {},
   "source": [
    "# Review Question #5\n"
   ]
  },
  {
   "cell_type": "code",
   "execution_count": 1,
   "id": "17c00a0e-f1c5-4d7a-a999-f4ff1d828345",
   "metadata": {},
   "outputs": [
    {
     "name": "stdin",
     "output_type": "stream",
     "text": [
      "Enter an integer:  12\n"
     ]
    },
    {
     "name": "stdout",
     "output_type": "stream",
     "text": [
      "You entered: 12\n"
     ]
    }
   ],
   "source": [
    "while True:\n",
    "    try:\n",
    "        num = int(input(\"Enter an integer: \"))\n",
    "        print(\"You entered:\", num)\n",
    "        break\n",
    "    except ValueError:\n",
    "        print(\"Try again. This is not an integer.\")"
   ]
  },
  {
   "cell_type": "code",
   "execution_count": 2,
   "id": "5d910078-00f1-4e99-a26f-59aea93ad3d2",
   "metadata": {},
   "outputs": [
    {
     "name": "stdin",
     "output_type": "stream",
     "text": [
      "Enter a string:  string\n",
      "Enter an index number:  45\n"
     ]
    },
    {
     "name": "stdout",
     "output_type": "stream",
     "text": [
      "Index out of range.\n"
     ]
    }
   ],
   "source": [
    "string = input(\"Enter a string: \")\n",
    "n = int(input(\"Enter an index number: \"))\n",
    "\n",
    "if 0 <= n < len(string):\n",
    "    print(\"Character at index\", n, \"is:\", string[n])\n",
    "else:\n",
    "    print(\"Index out of range.\")"
   ]
  },
  {
   "cell_type": "markdown",
   "id": "7724acc6-eb1f-43dc-a088-d44e7c5c57c2",
   "metadata": {},
   "source": [
    "# Review Question #6"
   ]
  },
  {
   "cell_type": "code",
   "execution_count": 3,
   "id": "0c9790e4-4159-40da-94b6-1cc10776ce10",
   "metadata": {},
   "outputs": [
    {
     "name": "stdout",
     "output_type": "stream",
     "text": [
      "3\n"
     ]
    }
   ],
   "source": [
    "import random\n",
    "\n",
    "def rollo():\n",
    "    return random.randint(1, 6)\n",
    "\n",
    "\n",
    "print(rollo())"
   ]
  },
  {
   "cell_type": "code",
   "execution_count": 4,
   "id": "d37ab1da-e679-499b-afb8-355493215c9a",
   "metadata": {},
   "outputs": [
    {
     "name": "stdout",
     "output_type": "stream",
     "text": [
      "Average number rolled: 3.5111\n"
     ]
    }
   ],
   "source": [
    "import random\n",
    "\n",
    "def rollo():\n",
    "    return random.randint(1, 6)\n",
    "\n",
    "total = 0\n",
    "for _ in range(10000):\n",
    "    total += rollo()\n",
    "\n",
    "average = total / 10000\n",
    "print(\"Average number rolled:\", average)"
   ]
  },
  {
   "cell_type": "markdown",
   "id": "107fc797-c1b4-4993-b6bf-b336c3483105",
   "metadata": {},
   "source": [
    "# Challenge Election Collection"
   ]
  },
  {
   "cell_type": "code",
   "execution_count": 6,
   "id": "ee1f7972-66da-4a3c-a8d0-282a04ad096e",
   "metadata": {},
   "outputs": [
    {
     "name": "stdout",
     "output_type": "stream",
     "text": [
      "Estimated probability Candidate A wins the election: 0.6299\n"
     ]
    }
   ],
   "source": [
    "import random\n",
    "\n",
    "def simulate_election(trials=10000):\n",
    "    a_wins = 0  \n",
    "\n",
    "    for _ in range(trials):\n",
    "        \n",
    "        region1 = random.random() < 0.87  \n",
    "        region2 = random.random() < 0.65  \n",
    "        region3 = random.random() < 0.17  \n",
    "\n",
    "        \n",
    "        regions_won = sum([region1, region2, region3])\n",
    "\n",
    "        \n",
    "        if regions_won >= 2:\n",
    "            a_wins += 1\n",
    "\n",
    "    probability_a_wins = a_wins / trials\n",
    "    return probability_a_wins\n",
    "\n",
    "\n",
    "result = simulate_election()\n",
    "print(\"Estimated probability Candidate A wins the election:\", result)"
   ]
  },
  {
   "cell_type": "code",
   "execution_count": null,
   "id": "0b79470c-8bfb-4ac5-839c-cc2ea7ca70f4",
   "metadata": {},
   "outputs": [],
   "source": []
  }
 ],
 "metadata": {
  "kernelspec": {
   "display_name": "anaconda-ai-2024.04-py310",
   "language": "python",
   "name": "conda-env-anaconda-ai-2024.04-py310-py"
  },
  "language_info": {
   "codemirror_mode": {
    "name": "ipython",
    "version": 3
   },
   "file_extension": ".py",
   "mimetype": "text/x-python",
   "name": "python",
   "nbconvert_exporter": "python",
   "pygments_lexer": "ipython3",
   "version": "3.10.13"
  }
 },
 "nbformat": 4,
 "nbformat_minor": 5
}
