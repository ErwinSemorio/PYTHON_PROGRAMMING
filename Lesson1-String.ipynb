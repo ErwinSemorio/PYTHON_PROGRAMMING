{
 "cells": [
  {
   "cell_type": "markdown",
   "id": "d5f6b2f2-59ae-4cf7-9dc9-2e849da6c3e1",
   "metadata": {},
   "source": [
    "# REVIEW QUESTION #1"
   ]
  },
  {
   "cell_type": "code",
   "execution_count": 2,
   "id": "dbaa0df2-4a7c-4c1b-b468-b725f5c1bf1e",
   "metadata": {},
   "outputs": [
    {
     "name": "stdout",
     "output_type": "stream",
     "text": [
      "RheaErwin\n"
     ]
    }
   ],
   "source": [
    "# create string \n",
    "str1 = \"Rhea\"\n",
    "str2 = \"Erwin\"\n",
    "magic_string = str1 + str2\n",
    "#print output\n",
    "print (magic_string)"
   ]
  },
  {
   "cell_type": "code",
   "execution_count": 21,
   "id": "a736a8fc-113f-4d44-8cd8-7af34c3d08b7",
   "metadata": {},
   "outputs": [
    {
     "name": "stdout",
     "output_type": "stream",
     "text": [
      "Rhea Erwin\n"
     ]
    }
   ],
   "source": [
    "str1 = \"Rhea\"\n",
    "str2 = \"Erwin\"\n",
    "# string + space + string\n",
    "magic_string = str1 + \" \" + str2\n",
    "print (magic_string)\n"
   ]
  },
  {
   "cell_type": "code",
   "execution_count": 4,
   "id": "79f6f0c4-25a6-4694-985a-7514c4313e44",
   "metadata": {},
   "outputs": [
    {
     "name": "stdout",
     "output_type": "stream",
     "text": [
      "fox\n"
     ]
    }
   ],
   "source": [
    "str1 = \"The quick brown fox jumps over the lazy dog. #1234567890!\"\n",
    "\n",
    "# print out the fox only\n",
    "output = str1[16:19]\n",
    "print (output)\n"
   ]
  },
  {
   "cell_type": "markdown",
   "id": "d9615281-6bec-4937-af53-6dead020d6ab",
   "metadata": {},
   "source": [
    "# REVIEW QUESTION #2"
   ]
  },
  {
   "cell_type": "code",
   "execution_count": 22,
   "id": "3ad39c9b-94ee-492c-8293-e13aa1c448de",
   "metadata": {},
   "outputs": [
    {
     "name": "stdout",
     "output_type": "stream",
     "text": [
      "animal\n",
      "badger\n",
      "honeybee\n",
      "honeybadger\n"
     ]
    }
   ],
   "source": [
    "word1 = \"Animal\"\n",
    "word2 = \"Badger\"\n",
    "word3 = \"HoneyBee\"\n",
    "word4 = \"HoneyBadger\"\n",
    "\n",
    "# Make the words on lowercase\n",
    "print (word1.lower())\n",
    "print (word2.lower())\n",
    "print (word3.lower())\n",
    "print (word4.lower())\n",
    "\n"
   ]
  },
  {
   "cell_type": "code",
   "execution_count": 7,
   "id": "bfd58f3e-ff48-4cde-95db-8527e602d376",
   "metadata": {},
   "outputs": [
    {
     "name": "stdout",
     "output_type": "stream",
     "text": [
      "ANIMAL\n",
      "BADGER\n",
      "HONEYBEE\n",
      "HONEYBADGER\n"
     ]
    }
   ],
   "source": [
    "word1 = \"Animal\"\n",
    "word2 = \"Badger\"\n",
    "word3 = \"HoneyBee\"\n",
    "word4 = \"HoneyBadger\"\n",
    "\n",
    "# Make thw words in uppercase\n",
    "print (word1.upper())\n",
    "print (word2.upper())\n",
    "print (word3.upper())\n",
    "print (word4.upper())\n",
    "\n"
   ]
  },
  {
   "cell_type": "code",
   "execution_count": 14,
   "id": "2e5346e6-ab46-42e2-a73f-1bccf550b91b",
   "metadata": {},
   "outputs": [
    {
     "name": "stdout",
     "output_type": "stream",
     "text": [
      "Filet Mignon\n",
      "Brisket\n"
     ]
    }
   ],
   "source": [
    "word1 = ' Filet Mignon'\n",
    "print (word1.strip())\n",
    "\n",
    "word2 = 'Brisket '\n",
    "print (word2.strip())"
   ]
  },
  {
   "cell_type": "code",
   "execution_count": 19,
   "id": "226b5c16-7106-47e8-8bca-45b83d67b1b0",
   "metadata": {},
   "outputs": [
    {
     "name": "stdout",
     "output_type": "stream",
     "text": [
      "False\n",
      "True\n"
     ]
    }
   ],
   "source": [
    "word1 = 'Becomes'\n",
    "word2 = 'become'\n",
    "\n",
    "print (word1.startswith('be'))\n",
    "print (word2.startswith('be'))"
   ]
  },
  {
   "cell_type": "markdown",
   "id": "c4064943-8803-485f-8175-16819a2fbc55",
   "metadata": {},
   "source": [
    "# REVIEW QUESTION #3"
   ]
  },
  {
   "cell_type": "code",
   "execution_count": 1,
   "id": "b48ce7be-c814-4e2f-a960-4866d3121aef",
   "metadata": {
    "scrolled": true
   },
   "outputs": [
    {
     "name": "stdin",
     "output_type": "stream",
     "text": [
      "Please enter something:  SOMETHING\n"
     ]
    },
    {
     "name": "stdout",
     "output_type": "stream",
     "text": [
      "You entered: SOMETHING\n"
     ]
    }
   ],
   "source": [
    "\n",
    "user_input = input(\"Please enter something: \")\n",
    "\n",
    "print(\"You entered:\", user_input)\n"
   ]
  },
  {
   "cell_type": "code",
   "execution_count": 2,
   "id": "b0e6e425-c2c5-4ae2-aac8-a224644b504f",
   "metadata": {},
   "outputs": [
    {
     "name": "stdin",
     "output_type": "stream",
     "text": [
      "Please enter something:  SOMETHING\n"
     ]
    },
    {
     "name": "stdout",
     "output_type": "stream",
     "text": [
      "Your input in lowercase: something\n"
     ]
    }
   ],
   "source": [
    "user_input = input(\"Please enter something: \")\n",
    "\n",
    "print(\"Your input in lowercase:\", user_input.lower())\n"
   ]
  },
  {
   "cell_type": "code",
   "execution_count": 3,
   "id": "8fc343e4-e629-4c62-8bff-a0acc96e8177",
   "metadata": {},
   "outputs": [
    {
     "name": "stdin",
     "output_type": "stream",
     "text": [
      "Please enter something:  SOMETHING\n"
     ]
    },
    {
     "name": "stdout",
     "output_type": "stream",
     "text": [
      "The number of characters you entered: 9\n"
     ]
    }
   ],
   "source": [
    "user_input = input(\"Please enter something: \")\n",
    "\n",
    "input_length = len(user_input)\n",
    "\n",
    "print(\"The number of characters you entered:\", input_length)\n"
   ]
  },
  {
   "cell_type": "markdown",
   "id": "792c2c1d-0f9f-4af8-b7a3-820010767d19",
   "metadata": {},
   "source": [
    "# REVIEW QUESTION #4\n"
   ]
  },
  {
   "cell_type": "code",
   "execution_count": 4,
   "id": "b9b19c7a-3f3c-4e64-8a36-ab288960a1ee",
   "metadata": {},
   "outputs": [
    {
     "name": "stdin",
     "output_type": "stream",
     "text": [
      "Tell me your name:  Erwin\n"
     ]
    },
    {
     "name": "stdout",
     "output_type": "stream",
     "text": [
      "The first letter of your name is: E\n"
     ]
    }
   ],
   "source": [
    "\n",
    "user_input = input(\"Tell me your name: \")\n",
    "\n",
    "first_letter = user_input[0].upper()\n",
    "\n",
    "# Displaying in uppercase\n",
    "print(\"The first letter of your name is:\", first_letter)\n"
   ]
  },
  {
   "cell_type": "markdown",
   "id": "a428d1c0-27ea-4790-b180-f65684550fef",
   "metadata": {},
   "source": [
    "# REVIEW QUESTION #5"
   ]
  },
  {
   "cell_type": "code",
   "execution_count": 5,
   "id": "d086af91-8760-4e89-9d34-0802327d2d33",
   "metadata": {},
   "outputs": [
    {
     "name": "stdout",
     "output_type": "stream",
     "text": [
      "The result of multiplying the number by 4 is: 100\n"
     ]
    }
   ],
   "source": [
    "# string that contains an integer\n",
    "num_str = \"25\"\n",
    "\n",
    "# Converting the string to an actual integer using int()\n",
    "num = int(num_str)\n",
    "\n",
    "result = num * 4\n",
    "\n",
    "print(\"The result of multiplying the number by 4 is:\", result)\n"
   ]
  },
  {
   "cell_type": "code",
   "execution_count": 7,
   "id": "d7825079-68f2-478e-8aed-e4f7a53ac092",
   "metadata": {},
   "outputs": [
    {
     "name": "stdout",
     "output_type": "stream",
     "text": [
      "The result of multiplying the number by 2.5 is: 31.25\n"
     ]
    }
   ],
   "source": [
    "num_str = \"12.5\"\n",
    "\n",
    "num = float(num_str)\n",
    "\n",
    "# Multiplying the float by another number\n",
    "result = num * 2.5\n",
    "\n",
    "print(\"The result of multiplying the number by 2.5 is:\", result)\n"
   ]
  },
  {
   "cell_type": "code",
   "execution_count": 8,
   "id": "411e705f-9830-4415-8903-578dc41da645",
   "metadata": {},
   "outputs": [
    {
     "name": "stdout",
     "output_type": "stream",
     "text": [
      "The number is 42\n"
     ]
    }
   ],
   "source": [
    "# Creating a string object and an integer object\n",
    "my_string = \"The number is\"\n",
    "my_integer = 42\n",
    "\n",
    "print(my_string + \" \" + str(my_integer))\n"
   ]
  },
  {
   "cell_type": "code",
   "execution_count": 9,
   "id": "630355f9-b99e-42ef-9c2c-d46187e9e0e3",
   "metadata": {},
   "outputs": [
    {
     "name": "stdin",
     "output_type": "stream",
     "text": [
      "Enter the first number:  1\n",
      "Enter the second number:  2\n"
     ]
    },
    {
     "name": "stdout",
     "output_type": "stream",
     "text": [
      "The result of multiplying 1.0 and 2.0 is: 2.0\n"
     ]
    }
   ],
   "source": [
    "num1 = float(input(\"Enter the first number: \"))\n",
    "\n",
    "num2 = float(input(\"Enter the second number: \"))\n",
    "\n",
    "# Multiplying the numbers\n",
    "result = num1 * num2\n",
    "\n",
    "# Displaying the result\n",
    "print(\"The result of multiplying\", num1, \"and\", num2, \"is:\", result)\n"
   ]
  },
  {
   "cell_type": "markdown",
   "id": "55d4b9db-1727-4d69-bc95-ffe70c1effa7",
   "metadata": {},
   "source": [
    "# REVIEW QUESTION #6"
   ]
  },
  {
   "cell_type": "code",
   "execution_count": 10,
   "id": "789fe4e0-52d7-4d04-ab88-1dec32026b69",
   "metadata": {},
   "outputs": [
    {
     "name": "stdout",
     "output_type": "stream",
     "text": [
      "-1\n"
     ]
    }
   ],
   "source": [
    "print(\"AAA\".find(\"a\"))\n"
   ]
  },
  {
   "cell_type": "code",
   "execution_count": 11,
   "id": "7d11fc36-2217-4bc3-b6a5-b3229f8f2f72",
   "metadata": {},
   "outputs": [
    {
     "name": "stdout",
     "output_type": "stream",
     "text": [
      "Somebody yaid yomething to Samantha.\n"
     ]
    }
   ],
   "source": [
    "print(\"Somebody said something to Samantha.\".replace(\"s\", \"y\"))\n"
   ]
  },
  {
   "cell_type": "code",
   "execution_count": null,
   "id": "e9009c22-3086-46b4-b3f8-3026fe01e54a",
   "metadata": {},
   "outputs": [],
   "source": []
  },
  {
   "cell_type": "code",
   "execution_count": 20,
   "id": "72b782a1-7bd6-4b26-a01a-a4b96004929c",
   "metadata": {},
   "outputs": [
    {
     "name": "stdin",
     "output_type": "stream",
     "text": [
      "Please enter a string:  aaaaaaaaaaaaaaaaaaaaaaaaaaaaaaaaa\n"
     ]
    },
    {
     "name": "stdout",
     "output_type": "stream",
     "text": [
      "The position of 'a' in your input is: 0\n"
     ]
    }
   ],
   "source": [
    "user_input = input(\"Please enter a string: \")\n",
    "\n",
    "position = user_input.find(\"a\")\n",
    "\n",
    "print(\"The position of 'a' in your input is:\", position)\n",
    "    "
   ]
  },
  {
   "cell_type": "markdown",
   "id": "af79ff4b-a815-42c4-a461-d0ddb2ee879f",
   "metadata": {},
   "source": [
    "# REVIEW QUESTION #7"
   ]
  },
  {
   "cell_type": "code",
   "execution_count": 18,
   "id": "1a09dcbf-f49e-4458-9306-3aa9b8138bae",
   "metadata": {},
   "outputs": [
    {
     "name": "stdin",
     "output_type": "stream",
     "text": [
      "Enter some text:  SOME TEXT\n"
     ]
    },
    {
     "name": "stdout",
     "output_type": "stream",
     "text": [
      "SOME TEXT\n"
     ]
    }
   ],
   "source": [
    "\n",
    "user_input = input(\"Enter some text: \")\n",
    "\n",
    "leetspeak = user_input.replace(\"a\", \"4\").replace(\"b\", \"8\").replace(\"e\", \"3\").replace(\"l\", \"1\") \\\n",
    "                      .replace(\"o\", \"0\").replace(\"s\", \"5\").replace(\"t\", \"7\")\n",
    "\n",
    "print(leetspeak)\n"
   ]
  },
  {
   "cell_type": "code",
   "execution_count": null,
   "id": "1af74762-f2b7-44a9-947b-79ad18439782",
   "metadata": {},
   "outputs": [],
   "source": []
  },
  {
   "cell_type": "code",
   "execution_count": null,
   "id": "c28bbc48-771f-46f8-9e35-912a6085988e",
   "metadata": {},
   "outputs": [],
   "source": []
  },
  {
   "cell_type": "code",
   "execution_count": null,
   "id": "1fe0de2e-d0d3-404c-8e5b-55a85908b59c",
   "metadata": {},
   "outputs": [],
   "source": []
  }
 ],
 "metadata": {
  "kernelspec": {
   "display_name": "Python 3 (ipykernel)",
   "language": "python",
   "name": "python3"
  },
  "language_info": {
   "codemirror_mode": {
    "name": "ipython",
    "version": 3
   },
   "file_extension": ".py",
   "mimetype": "text/x-python",
   "name": "python",
   "nbconvert_exporter": "python",
   "pygments_lexer": "ipython3",
   "version": "3.13.5"
  }
 },
 "nbformat": 4,
 "nbformat_minor": 5
}
