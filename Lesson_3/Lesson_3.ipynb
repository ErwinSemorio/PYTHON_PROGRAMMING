{
 "cells": [
  {
   "cell_type": "markdown",
   "id": "f6f2cd70-3cf2-4314-8d35-c008730f56ef",
   "metadata": {},
   "source": [
    "# Review Question 1"
   ]
  },
  {
   "cell_type": "code",
   "execution_count": 3,
   "id": "44e3e510-4822-47be-8869-98e33a9a6b9b",
   "metadata": {},
   "outputs": [
    {
     "name": "stdout",
     "output_type": "stream",
     "text": [
      "8\n",
      "27\n",
      "125\n"
     ]
    }
   ],
   "source": [
    "def cube(number):\n",
    "    return number ** 3\n",
    "\n",
    "print(cube(2))\n",
    "print(cube(3))\n",
    "print(cube(5)) "
   ]
  },
  {
   "cell_type": "code",
   "execution_count": 5,
   "id": "47b6a2c0-6cf2-4a23-8650-b36b05095933",
   "metadata": {},
   "outputs": [
    {
     "name": "stdout",
     "output_type": "stream",
     "text": [
      "Hello Jhayllah!\n",
      "Hello Elay Elay !\n",
      "Hello Lalay!\n"
     ]
    }
   ],
   "source": [
    "def greet(name):\n",
    "    print(\"Hello \" + name + \"!\")\n",
    "\n",
    "greet(\"Jhayllah\")\n",
    "greet(\"Elay Elay \")\n",
    "greet(\"Lalay\")"
   ]
  },
  {
   "cell_type": "markdown",
   "id": "569ad7cb-e26d-4c96-9343-3db56fe1030c",
   "metadata": {},
   "source": [
    "# Review question 2"
   ]
  },
  {
   "cell_type": "code",
   "execution_count": 6,
   "id": "5e56b21f-369a-410e-b9c0-2331ddd04673",
   "metadata": {},
   "outputs": [
    {
     "name": "stdout",
     "output_type": "stream",
     "text": [
      "72 degrees F = 22.22 degrees C\n",
      "37 degrees C = 98.60 degrees F\n"
     ]
    }
   ],
   "source": [
    "def convert_cel_to_far(celsius):\n",
    "    return (celsius * 9/5) + 32\n",
    "    \n",
    "def convert_far_to_cel(fahrenheit):\n",
    "    return (fahrenheit - 32) * 5/9\n",
    "\n",
    "f = 72\n",
    "print(f\"{f} degrees F = {convert_far_to_cel(f):.2f} degrees C\")\n",
    "\n",
    "c = 37\n",
    "print(f\"{c} degrees C = {convert_cel_to_far(c):.2f} degrees F\")"
   ]
  },
  {
   "cell_type": "markdown",
   "id": "ff430e0c-9850-46bc-a830-339fdb6324b5",
   "metadata": {},
   "source": [
    "# Review Question 3\n"
   ]
  },
  {
   "cell_type": "code",
   "execution_count": 7,
   "id": "990ac57b-9b3d-456b-a6a9-3faa409a0567",
   "metadata": {},
   "outputs": [
    {
     "name": "stdout",
     "output_type": "stream",
     "text": [
      "2\n",
      "3\n",
      "4\n",
      "5\n",
      "6\n",
      "7\n",
      "8\n",
      "9\n",
      "10\n"
     ]
    }
   ],
   "source": [
    "for number in range(2, 11):\n",
    "    print(number)"
   ]
  },
  {
   "cell_type": "code",
   "execution_count": 8,
   "id": "302c870d-3e1c-4bc9-8e21-d1f2db30ac7d",
   "metadata": {},
   "outputs": [
    {
     "name": "stdout",
     "output_type": "stream",
     "text": [
      "2\n",
      "3\n",
      "4\n",
      "5\n",
      "6\n",
      "7\n",
      "8\n",
      "9\n",
      "10\n"
     ]
    }
   ],
   "source": [
    "num = 2\n",
    "while num <= 10:\n",
    "    print(num)\n",
    "    num += 1"
   ]
  },
  {
   "cell_type": "code",
   "execution_count": 9,
   "id": "154f2a9b-6718-4a44-a4a8-cf1d4d4fd534",
   "metadata": {},
   "outputs": [
    {
     "name": "stdout",
     "output_type": "stream",
     "text": [
      "4\n",
      "8\n",
      "16\n"
     ]
    }
   ],
   "source": [
    "def doubles(x):\n",
    "    return x * 2\n",
    "\n",
    "value = 2\n",
    "for _ in range(3): \n",
    "    value = doubles(value)\n",
    "    print(value)"
   ]
  },
  {
   "cell_type": "code",
   "execution_count": null,
   "id": "c0be95fe-a09b-4ed6-b819-3f3dd797f58f",
   "metadata": {},
   "outputs": [],
   "source": []
  }
 ],
 "metadata": {
  "kernelspec": {
   "display_name": "anaconda-panel-2023.05-py310",
   "language": "python",
   "name": "conda-env-anaconda-panel-2023.05-py310-py"
  },
  "language_info": {
   "codemirror_mode": {
    "name": "ipython",
    "version": 3
   },
   "file_extension": ".py",
   "mimetype": "text/x-python",
   "name": "python",
   "nbconvert_exporter": "python",
   "pygments_lexer": "ipython3",
   "version": "3.11.5"
  }
 },
 "nbformat": 4,
 "nbformat_minor": 5
}
