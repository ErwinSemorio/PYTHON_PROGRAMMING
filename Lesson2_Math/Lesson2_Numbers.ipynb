{
 "cells": [
  {
   "cell_type": "markdown",
   "id": "f71560fb-7d84-4a98-b95a-38016e31f6cd",
   "metadata": {},
   "source": [
    "# REVIEW QUESTION #1\n"
   ]
  },
  {
   "cell_type": "code",
   "execution_count": 19,
   "id": "a02c83e0-c385-4860-ac5d-594f96206715",
   "metadata": {
    "scrolled": true
   },
   "outputs": [
    {
     "name": "stdout",
     "output_type": "stream",
     "text": [
      "25000000\n",
      "25000000\n"
     ]
    }
   ],
   "source": [
    "num1 = 25_000_000\n",
    "\n",
    "num2 = 25000000\n",
    "\n",
    "print(num1)\n",
    "print(num2)\n"
   ]
  },
  {
   "cell_type": "code",
   "execution_count": 21,
   "id": "d9975ad1-befb-439c-b553-36335dd360f2",
   "metadata": {},
   "outputs": [
    {
     "name": "stdout",
     "output_type": "stream",
     "text": [
      "175000.0\n"
     ]
    }
   ],
   "source": [
    "num = 1.75e5  \n",
    "\n",
    "print(num)\n"
   ]
  },
  {
   "cell_type": "code",
   "execution_count": 13,
   "id": "8e8db9a9-e6cf-4e72-8b0f-35039da6a98d",
   "metadata": {},
   "outputs": [
    {
     "name": "stdout",
     "output_type": "stream",
     "text": [
      "2e+307\n",
      "inf\n"
     ]
    }
   ],
   "source": [
    "print (2e307)\n",
    "print (2e308)"
   ]
  },
  {
   "cell_type": "markdown",
   "id": "49817db0-960a-4431-8e15-93ea86fcdb8a",
   "metadata": {},
   "source": [
    "# REVIEW QUESTION #2"
   ]
  },
  {
   "cell_type": "code",
   "execution_count": 5,
   "id": "cbfe7993-630c-413c-933d-22cf82dfd1d0",
   "metadata": {},
   "outputs": [
    {
     "name": "stdin",
     "output_type": "stream",
     "text": [
      "Enter the base number:  1\n",
      "Enter the exponent number:  2\n"
     ]
    },
    {
     "name": "stdout",
     "output_type": "stream",
     "text": [
      "1.0 raised to the power of 2.0 is: 1.0\n"
     ]
    }
   ],
   "source": [
    "\n",
    "base = float(input(\"Enter the base number: \")) \n",
    "exponent = float(input(\"Enter the exponent number: \")) \n",
    "\n",
    "result = base ** exponent\n",
    "\n",
    "print(f\"{base} raised to the power of {exponent} is: {result}\")\n"
   ]
  },
  {
   "cell_type": "markdown",
   "id": "262fc144-a9d6-4281-a140-82c9136319a0",
   "metadata": {},
   "source": [
    "# REVIEW QUESTION #3"
   ]
  },
  {
   "cell_type": "code",
   "execution_count": 6,
   "id": "4c9eb265-0859-46f1-a37f-ad98298bc676",
   "metadata": {},
   "outputs": [
    {
     "name": "stdin",
     "output_type": "stream",
     "text": [
      "Enter a number:  1\n"
     ]
    },
    {
     "name": "stdout",
     "output_type": "stream",
     "text": [
      "The number rounded to two decimal places is: 1.0\n"
     ]
    }
   ],
   "source": [
    "user_input = float(input(\"Enter a number: \"))\n",
    "\n",
    "rounded_number = round(user_input, 2)\n",
    "\n",
    "print(f\"The number rounded to two decimal places is: {rounded_number}\")\n"
   ]
  },
  {
   "cell_type": "code",
   "execution_count": 7,
   "id": "7cbc2e6e-257e-4b75-9c8d-2246f16bad52",
   "metadata": {},
   "outputs": [
    {
     "name": "stdin",
     "output_type": "stream",
     "text": [
      "Enter a number:  4\n"
     ]
    },
    {
     "name": "stdout",
     "output_type": "stream",
     "text": [
      "The absolute value of 4.0 is: 4.0\n"
     ]
    }
   ],
   "source": [
    "user_input = float(input(\"Enter a number: \"))\n",
    "\n",
    "absolute_value = abs(user_input)\n",
    "\n",
    "print(f\"The absolute value of {user_input} is: {absolute_value}\")\n"
   ]
  },
  {
   "cell_type": "markdown",
   "id": "3fb62ab1-8913-46fc-a915-43bb9edd7ec5",
   "metadata": {},
   "source": [
    "# REVIEW QUESTION #4"
   ]
  },
  {
   "cell_type": "code",
   "execution_count": 14,
   "id": "313b2047-587a-4930-b4c4-8cf6c4a9b37d",
   "metadata": {},
   "outputs": [
    {
     "name": "stdin",
     "output_type": "stream",
     "text": [
      "Enter the first number:  3\n",
      "Enter the second number:  5\n"
     ]
    },
    {
     "name": "stdout",
     "output_type": "stream",
     "text": [
      "The difference -2.0 is an integer.\n"
     ]
    }
   ],
   "source": [
    "num1 = float(input(\"Enter the first number: \"))\n",
    "num2 = float(input(\"Enter the second number: \"))\n",
    "difference = num1 - num2\n",
    "\n",
    "if difference.is_integer():\n",
    "    print(f\"The difference {difference} is an integer.\")\n",
    "else:\n",
    "    print(f\"The difference {difference} is not an integer.\")\n"
   ]
  },
  {
   "cell_type": "markdown",
   "id": "f534bc5d-e83d-4903-8951-b5ffcf65bddb",
   "metadata": {},
   "source": [
    "# REVIEW QUESTION #5"
   ]
  },
  {
   "cell_type": "code",
   "execution_count": 9,
   "id": "af3e55b5-324f-4af6-a7d8-a9b8164a0cf8",
   "metadata": {},
   "outputs": [
    {
     "name": "stdout",
     "output_type": "stream",
     "text": [
      "The result of 3 ** 0.125 is: 1.147\n"
     ]
    }
   ],
   "source": [
    "result = 3 ** 0.125\n",
    "\n",
    "print(f\"The result of 3 ** 0.125 is: {result:.3f}\")\n"
   ]
  },
  {
   "cell_type": "code",
   "execution_count": 10,
   "id": "9db5ddf6-7b52-492b-9e0c-8f4cc2488bd6",
   "metadata": {},
   "outputs": [
    {
     "name": "stdout",
     "output_type": "stream",
     "text": [
      "$150,000.00\n"
     ]
    }
   ],
   "source": [
    "number = 150000\n",
    "\n",
    "formatted_currency = f\"${number:,.2f}\"\n",
    "\n",
    "print(formatted_currency)\n"
   ]
  },
  {
   "cell_type": "code",
   "execution_count": 11,
   "id": "b37f29a3-aafc-435b-8a38-2a540c6221fe",
   "metadata": {},
   "outputs": [
    {
     "name": "stdout",
     "output_type": "stream",
     "text": [
      "20%\n"
     ]
    }
   ],
   "source": [
    "result = (2 / 10) * 100\n",
    "\n",
    "print(f\"{result:.0f}%\")\n"
   ]
  }
 ],
 "metadata": {
  "kernelspec": {
   "display_name": "Python 3 (ipykernel)",
   "language": "python",
   "name": "python3"
  },
  "language_info": {
   "codemirror_mode": {
    "name": "ipython",
    "version": 3
   },
   "file_extension": ".py",
   "mimetype": "text/x-python",
   "name": "python",
   "nbconvert_exporter": "python",
   "pygments_lexer": "ipython3",
   "version": "3.13.5"
  }
 },
 "nbformat": 4,
 "nbformat_minor": 5
}
